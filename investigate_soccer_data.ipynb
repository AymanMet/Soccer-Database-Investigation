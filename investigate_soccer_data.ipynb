{
 "cells": [
  {
   "cell_type": "markdown",
   "metadata": {},
   "source": [
    "# Project: Investigate a Dataset (European Soccer Database)\n",
    "\n",
    "## Table of Contents\n",
    "<ul>\n",
    "<li><a href=\"#intro\">Introduction</a></li>\n",
    "<li><a href=\"#wrangling\">Data Wrangling</a></li>\n",
    "<li><a href=\"#eda\">Exploratory Data Analysis</a></li>\n",
    "<li><a href=\"#conclusions\">Conclusions</a></li>\n",
    "</ul>"
   ]
  },
  {
   "cell_type": "markdown",
   "metadata": {},
   "source": [
    "<a id='intro'></a>\n",
    "## Introduction\n",
    "\n",
    "* This soccer database comes from [Kaggle](https://www.kaggle.com/hugomathien/soccer). It contains data for soccer matches, players, and teams from several European countries from 2008 to 2016.\n",
    "* The database is stored in a SQLite database. You can access database files using software like [DB Browser](https://sqlitebrowser.org/).\n",
    "* After exploring the data, we are going to assess and clean the data so that we can answer these research questions:\n",
    "1. #### What player attributes is linked with the high potential & overall rating?\n",
    "2. #### What teams attributes lead to most goals scoring & most defeated teams?"
   ]
  },
  {
   "cell_type": "markdown",
   "metadata": {},
   "source": [
    "<a id='wrangling'></a>\n",
    "## Data Wrangling"
   ]
  },
  {
   "cell_type": "markdown",
   "metadata": {},
   "source": [
    "### Importing Libraries"
   ]
  },
  {
   "cell_type": "code",
   "execution_count": 1,
   "metadata": {},
   "outputs": [],
   "source": [
    "import numpy as np\n",
    "import pandas as pd\n",
    "import zipfile\n",
    "import sqlite3\n",
    "import datetime\n",
    "import matplotlib.pyplot as plt\n",
    "%matplotlib inline"
   ]
  },
  {
   "cell_type": "markdown",
   "metadata": {},
   "source": [
    "### Data Loading"
   ]
  },
  {
   "cell_type": "code",
   "execution_count": 2,
   "metadata": {},
   "outputs": [],
   "source": [
    "# Exracting database from a zipfile\n",
    "with zipfile.ZipFile('soccer_database.sqlite.zip', 'r') as zip_ref:\n",
    "    zip_ref.extractall()"
   ]
  },
  {
   "cell_type": "code",
   "execution_count": 3,
   "metadata": {},
   "outputs": [],
   "source": [
    "con = sqlite3.connect('soccer_database.sqlite')\n",
    "\n",
    "players_query = \"\"\"\n",
    "select pl.player_api_id player_id, pl.player_name player, pl.birthday, pl.height, pl.weight, pla.date, pla.overall_rating, \n",
    "       pla.potential, pla.preferred_foot, pla.attacking_work_rate, pla.defensive_work_rate, pla.crossing, pla.finishing,\n",
    "       pla.heading_accuracy, pla.short_passing, pla.volleys, pla.dribbling, pla.curve, pla.free_kick_accuracy,\n",
    "       pla.long_passing, pla.ball_control, pla.acceleration, pla.sprint_speed, pla.agility, pla.reactions, pla.balance,\n",
    "       pla.shot_power, pla.jumping, pla.stamina, pla.strength, pla.long_shots, pla.aggression, pla.interceptions,\n",
    "       pla.positioning, pla.vision, pla.penalties, pla.marking, pla.standing_tackle, pla.sliding_tackle, pla.gk_diving,\n",
    "       pla.gk_handling, pla.gk_kicking, pla.gk_positioning, pla.gk_reflexes\n",
    "from player pl join player_attributes pla on pl.player_api_id = pla.player_api_id\n",
    "\"\"\"\n",
    "\n",
    "players = pd.read_sql_query(players_query, con)\n",
    "con.close()"
   ]
  },
  {
   "cell_type": "code",
   "execution_count": 4,
   "metadata": {},
   "outputs": [],
   "source": [
    "con = sqlite3.connect('soccer_database.sqlite')\n",
    "\n",
    "teams_query = \"\"\"\n",
    "select t.team_api_id team_id, t.team_long_name team, atr.date, atr.buildUpPlaySpeed, atr.buildUpPlaySpeedClass,\n",
    "       atr.buildUpPlayDribbling, atr.buildUpPlayDribblingClass, atr.buildUpPlayPassing, atr.buildUpPlayPassingClass,\n",
    "       atr.buildUpPlayPositioningClass, atr.chanceCreationPassing, atr.chanceCreationPassingClass, atr.chanceCreationCrossing,\n",
    "       atr.chanceCreationCrossingClass, atr.chanceCreationShooting, atr.chanceCreationShootingClass,\n",
    "       atr.chanceCreationPositioningClass, atr.defencePressure, atr.defencePressureClass, atr.defenceAggression,\n",
    "       atr.defenceAggressionClass, atr.defenceTeamWidth, atr.defenceTeamWidthClass, atr.defenceDefenderLineClass\n",
    "from team t join team_attributes atr on t.team_api_id = atr.team_api_id\n",
    "\"\"\"\n",
    "\n",
    "teams = pd.read_sql_query(teams_query, con)\n",
    "con.close()"
   ]
  },
  {
   "cell_type": "code",
   "execution_count": 5,
   "metadata": {},
   "outputs": [],
   "source": [
    "con = sqlite3.connect('soccer_database.sqlite')\n",
    "\n",
    "match_query = \"\"\"\n",
    "select m.match_api_id match_id, c.name country, l.name league, m.season, m.stage, m.date, home.team_long_name home_team,\n",
    "       away.team_long_name away_team, m.home_team_goal home_goal, m.away_team_goal away_goal\n",
    "from match m, country c, league l, team home, team away\n",
    "where m.country_id = c.id and m.league_id = l.id and\n",
    "      home.team_api_id = m.home_team_api_id and away.team_api_id = m.away_team_api_id\n",
    "\"\"\"\n",
    "\n",
    "match = pd.read_sql_query(match_query, con)\n",
    "con.close()"
   ]
  },
  {
   "cell_type": "markdown",
   "metadata": {},
   "source": [
    "### Data Assessing"
   ]
  },
  {
   "cell_type": "code",
   "execution_count": 6,
   "metadata": {},
   "outputs": [
    {
     "data": {
      "text/html": [
       "<div>\n",
       "<style scoped>\n",
       "    .dataframe tbody tr th:only-of-type {\n",
       "        vertical-align: middle;\n",
       "    }\n",
       "\n",
       "    .dataframe tbody tr th {\n",
       "        vertical-align: top;\n",
       "    }\n",
       "\n",
       "    .dataframe thead th {\n",
       "        text-align: right;\n",
       "    }\n",
       "</style>\n",
       "<table border=\"1\" class=\"dataframe\">\n",
       "  <thead>\n",
       "    <tr style=\"text-align: right;\">\n",
       "      <th></th>\n",
       "      <th>player_id</th>\n",
       "      <th>player</th>\n",
       "      <th>birthday</th>\n",
       "      <th>height</th>\n",
       "      <th>weight</th>\n",
       "      <th>date</th>\n",
       "      <th>overall_rating</th>\n",
       "      <th>potential</th>\n",
       "      <th>preferred_foot</th>\n",
       "      <th>attacking_work_rate</th>\n",
       "      <th>...</th>\n",
       "      <th>vision</th>\n",
       "      <th>penalties</th>\n",
       "      <th>marking</th>\n",
       "      <th>standing_tackle</th>\n",
       "      <th>sliding_tackle</th>\n",
       "      <th>gk_diving</th>\n",
       "      <th>gk_handling</th>\n",
       "      <th>gk_kicking</th>\n",
       "      <th>gk_positioning</th>\n",
       "      <th>gk_reflexes</th>\n",
       "    </tr>\n",
       "  </thead>\n",
       "  <tbody>\n",
       "    <tr>\n",
       "      <th>0</th>\n",
       "      <td>505942</td>\n",
       "      <td>Aaron Appindangoye</td>\n",
       "      <td>1992-02-29 00:00:00</td>\n",
       "      <td>182.88</td>\n",
       "      <td>187</td>\n",
       "      <td>2016-02-18 00:00:00</td>\n",
       "      <td>67.0</td>\n",
       "      <td>71.0</td>\n",
       "      <td>right</td>\n",
       "      <td>medium</td>\n",
       "      <td>...</td>\n",
       "      <td>54.0</td>\n",
       "      <td>48.0</td>\n",
       "      <td>65.0</td>\n",
       "      <td>69.0</td>\n",
       "      <td>69.0</td>\n",
       "      <td>6.0</td>\n",
       "      <td>11.0</td>\n",
       "      <td>10.0</td>\n",
       "      <td>8.0</td>\n",
       "      <td>8.0</td>\n",
       "    </tr>\n",
       "    <tr>\n",
       "      <th>1</th>\n",
       "      <td>505942</td>\n",
       "      <td>Aaron Appindangoye</td>\n",
       "      <td>1992-02-29 00:00:00</td>\n",
       "      <td>182.88</td>\n",
       "      <td>187</td>\n",
       "      <td>2015-11-19 00:00:00</td>\n",
       "      <td>67.0</td>\n",
       "      <td>71.0</td>\n",
       "      <td>right</td>\n",
       "      <td>medium</td>\n",
       "      <td>...</td>\n",
       "      <td>54.0</td>\n",
       "      <td>48.0</td>\n",
       "      <td>65.0</td>\n",
       "      <td>69.0</td>\n",
       "      <td>69.0</td>\n",
       "      <td>6.0</td>\n",
       "      <td>11.0</td>\n",
       "      <td>10.0</td>\n",
       "      <td>8.0</td>\n",
       "      <td>8.0</td>\n",
       "    </tr>\n",
       "    <tr>\n",
       "      <th>2</th>\n",
       "      <td>505942</td>\n",
       "      <td>Aaron Appindangoye</td>\n",
       "      <td>1992-02-29 00:00:00</td>\n",
       "      <td>182.88</td>\n",
       "      <td>187</td>\n",
       "      <td>2015-09-21 00:00:00</td>\n",
       "      <td>62.0</td>\n",
       "      <td>66.0</td>\n",
       "      <td>right</td>\n",
       "      <td>medium</td>\n",
       "      <td>...</td>\n",
       "      <td>54.0</td>\n",
       "      <td>48.0</td>\n",
       "      <td>65.0</td>\n",
       "      <td>66.0</td>\n",
       "      <td>69.0</td>\n",
       "      <td>6.0</td>\n",
       "      <td>11.0</td>\n",
       "      <td>10.0</td>\n",
       "      <td>8.0</td>\n",
       "      <td>8.0</td>\n",
       "    </tr>\n",
       "    <tr>\n",
       "      <th>3</th>\n",
       "      <td>505942</td>\n",
       "      <td>Aaron Appindangoye</td>\n",
       "      <td>1992-02-29 00:00:00</td>\n",
       "      <td>182.88</td>\n",
       "      <td>187</td>\n",
       "      <td>2015-03-20 00:00:00</td>\n",
       "      <td>61.0</td>\n",
       "      <td>65.0</td>\n",
       "      <td>right</td>\n",
       "      <td>medium</td>\n",
       "      <td>...</td>\n",
       "      <td>53.0</td>\n",
       "      <td>47.0</td>\n",
       "      <td>62.0</td>\n",
       "      <td>63.0</td>\n",
       "      <td>66.0</td>\n",
       "      <td>5.0</td>\n",
       "      <td>10.0</td>\n",
       "      <td>9.0</td>\n",
       "      <td>7.0</td>\n",
       "      <td>7.0</td>\n",
       "    </tr>\n",
       "    <tr>\n",
       "      <th>4</th>\n",
       "      <td>505942</td>\n",
       "      <td>Aaron Appindangoye</td>\n",
       "      <td>1992-02-29 00:00:00</td>\n",
       "      <td>182.88</td>\n",
       "      <td>187</td>\n",
       "      <td>2007-02-22 00:00:00</td>\n",
       "      <td>61.0</td>\n",
       "      <td>65.0</td>\n",
       "      <td>right</td>\n",
       "      <td>medium</td>\n",
       "      <td>...</td>\n",
       "      <td>53.0</td>\n",
       "      <td>47.0</td>\n",
       "      <td>62.0</td>\n",
       "      <td>63.0</td>\n",
       "      <td>66.0</td>\n",
       "      <td>5.0</td>\n",
       "      <td>10.0</td>\n",
       "      <td>9.0</td>\n",
       "      <td>7.0</td>\n",
       "      <td>7.0</td>\n",
       "    </tr>\n",
       "  </tbody>\n",
       "</table>\n",
       "<p>5 rows × 44 columns</p>\n",
       "</div>"
      ],
      "text/plain": [
       "   player_id              player             birthday  height  weight  \\\n",
       "0     505942  Aaron Appindangoye  1992-02-29 00:00:00  182.88     187   \n",
       "1     505942  Aaron Appindangoye  1992-02-29 00:00:00  182.88     187   \n",
       "2     505942  Aaron Appindangoye  1992-02-29 00:00:00  182.88     187   \n",
       "3     505942  Aaron Appindangoye  1992-02-29 00:00:00  182.88     187   \n",
       "4     505942  Aaron Appindangoye  1992-02-29 00:00:00  182.88     187   \n",
       "\n",
       "                  date  overall_rating  potential preferred_foot  \\\n",
       "0  2016-02-18 00:00:00            67.0       71.0          right   \n",
       "1  2015-11-19 00:00:00            67.0       71.0          right   \n",
       "2  2015-09-21 00:00:00            62.0       66.0          right   \n",
       "3  2015-03-20 00:00:00            61.0       65.0          right   \n",
       "4  2007-02-22 00:00:00            61.0       65.0          right   \n",
       "\n",
       "  attacking_work_rate  ... vision  penalties  marking  standing_tackle  \\\n",
       "0              medium  ...   54.0       48.0     65.0             69.0   \n",
       "1              medium  ...   54.0       48.0     65.0             69.0   \n",
       "2              medium  ...   54.0       48.0     65.0             66.0   \n",
       "3              medium  ...   53.0       47.0     62.0             63.0   \n",
       "4              medium  ...   53.0       47.0     62.0             63.0   \n",
       "\n",
       "   sliding_tackle  gk_diving  gk_handling  gk_kicking  gk_positioning  \\\n",
       "0            69.0        6.0         11.0        10.0             8.0   \n",
       "1            69.0        6.0         11.0        10.0             8.0   \n",
       "2            69.0        6.0         11.0        10.0             8.0   \n",
       "3            66.0        5.0         10.0         9.0             7.0   \n",
       "4            66.0        5.0         10.0         9.0             7.0   \n",
       "\n",
       "   gk_reflexes  \n",
       "0          8.0  \n",
       "1          8.0  \n",
       "2          8.0  \n",
       "3          7.0  \n",
       "4          7.0  \n",
       "\n",
       "[5 rows x 44 columns]"
      ]
     },
     "execution_count": 6,
     "metadata": {},
     "output_type": "execute_result"
    }
   ],
   "source": [
    "players.head()"
   ]
  },
  {
   "cell_type": "code",
   "execution_count": 7,
   "metadata": {},
   "outputs": [
    {
     "name": "stdout",
     "output_type": "stream",
     "text": [
      "<class 'pandas.core.frame.DataFrame'>\n",
      "RangeIndex: 183978 entries, 0 to 183977\n",
      "Data columns (total 44 columns):\n",
      " #   Column               Non-Null Count   Dtype  \n",
      "---  ------               --------------   -----  \n",
      " 0   player_id            183978 non-null  int64  \n",
      " 1   player               183978 non-null  object \n",
      " 2   birthday             183978 non-null  object \n",
      " 3   height               183978 non-null  float64\n",
      " 4   weight               183978 non-null  int64  \n",
      " 5   date                 183978 non-null  object \n",
      " 6   overall_rating       183142 non-null  float64\n",
      " 7   potential            183142 non-null  float64\n",
      " 8   preferred_foot       183142 non-null  object \n",
      " 9   attacking_work_rate  180748 non-null  object \n",
      " 10  defensive_work_rate  183142 non-null  object \n",
      " 11  crossing             183142 non-null  float64\n",
      " 12  finishing            183142 non-null  float64\n",
      " 13  heading_accuracy     183142 non-null  float64\n",
      " 14  short_passing        183142 non-null  float64\n",
      " 15  volleys              181265 non-null  float64\n",
      " 16  dribbling            183142 non-null  float64\n",
      " 17  curve                181265 non-null  float64\n",
      " 18  free_kick_accuracy   183142 non-null  float64\n",
      " 19  long_passing         183142 non-null  float64\n",
      " 20  ball_control         183142 non-null  float64\n",
      " 21  acceleration         183142 non-null  float64\n",
      " 22  sprint_speed         183142 non-null  float64\n",
      " 23  agility              181265 non-null  float64\n",
      " 24  reactions            183142 non-null  float64\n",
      " 25  balance              181265 non-null  float64\n",
      " 26  shot_power           183142 non-null  float64\n",
      " 27  jumping              181265 non-null  float64\n",
      " 28  stamina              183142 non-null  float64\n",
      " 29  strength             183142 non-null  float64\n",
      " 30  long_shots           183142 non-null  float64\n",
      " 31  aggression           183142 non-null  float64\n",
      " 32  interceptions        183142 non-null  float64\n",
      " 33  positioning          183142 non-null  float64\n",
      " 34  vision               181265 non-null  float64\n",
      " 35  penalties            183142 non-null  float64\n",
      " 36  marking              183142 non-null  float64\n",
      " 37  standing_tackle      183142 non-null  float64\n",
      " 38  sliding_tackle       181265 non-null  float64\n",
      " 39  gk_diving            183142 non-null  float64\n",
      " 40  gk_handling          183142 non-null  float64\n",
      " 41  gk_kicking           183142 non-null  float64\n",
      " 42  gk_positioning       183142 non-null  float64\n",
      " 43  gk_reflexes          183142 non-null  float64\n",
      "dtypes: float64(36), int64(2), object(6)\n",
      "memory usage: 61.8+ MB\n"
     ]
    }
   ],
   "source": [
    "players.info()"
   ]
  },
  {
   "cell_type": "code",
   "execution_count": 8,
   "metadata": {},
   "outputs": [
    {
     "data": {
      "text/plain": [
       "1"
      ]
     },
     "execution_count": 8,
     "metadata": {},
     "output_type": "execute_result"
    }
   ],
   "source": [
    "players.duplicated().sum()"
   ]
  },
  {
   "cell_type": "code",
   "execution_count": 9,
   "metadata": {},
   "outputs": [
    {
     "data": {
      "text/html": [
       "<div>\n",
       "<style scoped>\n",
       "    .dataframe tbody tr th:only-of-type {\n",
       "        vertical-align: middle;\n",
       "    }\n",
       "\n",
       "    .dataframe tbody tr th {\n",
       "        vertical-align: top;\n",
       "    }\n",
       "\n",
       "    .dataframe thead th {\n",
       "        text-align: right;\n",
       "    }\n",
       "</style>\n",
       "<table border=\"1\" class=\"dataframe\">\n",
       "  <thead>\n",
       "    <tr style=\"text-align: right;\">\n",
       "      <th></th>\n",
       "      <th>player_id</th>\n",
       "      <th>player</th>\n",
       "      <th>birthday</th>\n",
       "      <th>height</th>\n",
       "      <th>weight</th>\n",
       "      <th>date</th>\n",
       "      <th>overall_rating</th>\n",
       "      <th>potential</th>\n",
       "      <th>preferred_foot</th>\n",
       "      <th>attacking_work_rate</th>\n",
       "      <th>...</th>\n",
       "      <th>vision</th>\n",
       "      <th>penalties</th>\n",
       "      <th>marking</th>\n",
       "      <th>standing_tackle</th>\n",
       "      <th>sliding_tackle</th>\n",
       "      <th>gk_diving</th>\n",
       "      <th>gk_handling</th>\n",
       "      <th>gk_kicking</th>\n",
       "      <th>gk_positioning</th>\n",
       "      <th>gk_reflexes</th>\n",
       "    </tr>\n",
       "  </thead>\n",
       "  <tbody>\n",
       "    <tr>\n",
       "      <th>84924</th>\n",
       "      <td>32968</td>\n",
       "      <td>John Potter</td>\n",
       "      <td>1979-12-15 00:00:00</td>\n",
       "      <td>185.42</td>\n",
       "      <td>183</td>\n",
       "      <td>2007-02-22 00:00:00</td>\n",
       "      <td>NaN</td>\n",
       "      <td>NaN</td>\n",
       "      <td>None</td>\n",
       "      <td>None</td>\n",
       "      <td>...</td>\n",
       "      <td>NaN</td>\n",
       "      <td>NaN</td>\n",
       "      <td>NaN</td>\n",
       "      <td>NaN</td>\n",
       "      <td>NaN</td>\n",
       "      <td>NaN</td>\n",
       "      <td>NaN</td>\n",
       "      <td>NaN</td>\n",
       "      <td>NaN</td>\n",
       "      <td>NaN</td>\n",
       "    </tr>\n",
       "  </tbody>\n",
       "</table>\n",
       "<p>1 rows × 44 columns</p>\n",
       "</div>"
      ],
      "text/plain": [
       "       player_id       player             birthday  height  weight  \\\n",
       "84924      32968  John Potter  1979-12-15 00:00:00  185.42     183   \n",
       "\n",
       "                      date  overall_rating  potential preferred_foot  \\\n",
       "84924  2007-02-22 00:00:00             NaN        NaN           None   \n",
       "\n",
       "      attacking_work_rate  ... vision  penalties  marking  standing_tackle  \\\n",
       "84924                None  ...    NaN        NaN      NaN              NaN   \n",
       "\n",
       "       sliding_tackle  gk_diving  gk_handling  gk_kicking  gk_positioning  \\\n",
       "84924             NaN        NaN          NaN         NaN             NaN   \n",
       "\n",
       "       gk_reflexes  \n",
       "84924          NaN  \n",
       "\n",
       "[1 rows x 44 columns]"
      ]
     },
     "execution_count": 9,
     "metadata": {},
     "output_type": "execute_result"
    }
   ],
   "source": [
    "players[players.duplicated()]"
   ]
  },
  {
   "cell_type": "code",
   "execution_count": 10,
   "metadata": {
    "scrolled": true
   },
   "outputs": [
    {
     "data": {
      "text/plain": [
       "player_id                 0\n",
       "player                    0\n",
       "birthday                  0\n",
       "height                    0\n",
       "weight                    0\n",
       "date                      0\n",
       "overall_rating          836\n",
       "potential               836\n",
       "preferred_foot          836\n",
       "attacking_work_rate    3230\n",
       "defensive_work_rate     836\n",
       "crossing                836\n",
       "finishing               836\n",
       "heading_accuracy        836\n",
       "short_passing           836\n",
       "volleys                2713\n",
       "dribbling               836\n",
       "curve                  2713\n",
       "free_kick_accuracy      836\n",
       "long_passing            836\n",
       "ball_control            836\n",
       "acceleration            836\n",
       "sprint_speed            836\n",
       "agility                2713\n",
       "reactions               836\n",
       "balance                2713\n",
       "shot_power              836\n",
       "jumping                2713\n",
       "stamina                 836\n",
       "strength                836\n",
       "long_shots              836\n",
       "aggression              836\n",
       "interceptions           836\n",
       "positioning             836\n",
       "vision                 2713\n",
       "penalties               836\n",
       "marking                 836\n",
       "standing_tackle         836\n",
       "sliding_tackle         2713\n",
       "gk_diving               836\n",
       "gk_handling             836\n",
       "gk_kicking              836\n",
       "gk_positioning          836\n",
       "gk_reflexes             836\n",
       "dtype: int64"
      ]
     },
     "execution_count": 10,
     "metadata": {},
     "output_type": "execute_result"
    }
   ],
   "source": [
    "players.isnull().sum()"
   ]
  },
  {
   "cell_type": "code",
   "execution_count": 11,
   "metadata": {},
   "outputs": [
    {
     "data": {
      "text/html": [
       "<div>\n",
       "<style scoped>\n",
       "    .dataframe tbody tr th:only-of-type {\n",
       "        vertical-align: middle;\n",
       "    }\n",
       "\n",
       "    .dataframe tbody tr th {\n",
       "        vertical-align: top;\n",
       "    }\n",
       "\n",
       "    .dataframe thead th {\n",
       "        text-align: right;\n",
       "    }\n",
       "</style>\n",
       "<table border=\"1\" class=\"dataframe\">\n",
       "  <thead>\n",
       "    <tr style=\"text-align: right;\">\n",
       "      <th></th>\n",
       "      <th>team_id</th>\n",
       "      <th>team</th>\n",
       "      <th>date</th>\n",
       "      <th>buildUpPlaySpeed</th>\n",
       "      <th>buildUpPlaySpeedClass</th>\n",
       "      <th>buildUpPlayDribbling</th>\n",
       "      <th>buildUpPlayDribblingClass</th>\n",
       "      <th>buildUpPlayPassing</th>\n",
       "      <th>buildUpPlayPassingClass</th>\n",
       "      <th>buildUpPlayPositioningClass</th>\n",
       "      <th>...</th>\n",
       "      <th>chanceCreationShooting</th>\n",
       "      <th>chanceCreationShootingClass</th>\n",
       "      <th>chanceCreationPositioningClass</th>\n",
       "      <th>defencePressure</th>\n",
       "      <th>defencePressureClass</th>\n",
       "      <th>defenceAggression</th>\n",
       "      <th>defenceAggressionClass</th>\n",
       "      <th>defenceTeamWidth</th>\n",
       "      <th>defenceTeamWidthClass</th>\n",
       "      <th>defenceDefenderLineClass</th>\n",
       "    </tr>\n",
       "  </thead>\n",
       "  <tbody>\n",
       "    <tr>\n",
       "      <th>0</th>\n",
       "      <td>9930</td>\n",
       "      <td>FC Aarau</td>\n",
       "      <td>2010-02-22 00:00:00</td>\n",
       "      <td>60</td>\n",
       "      <td>Balanced</td>\n",
       "      <td>NaN</td>\n",
       "      <td>Little</td>\n",
       "      <td>50</td>\n",
       "      <td>Mixed</td>\n",
       "      <td>Organised</td>\n",
       "      <td>...</td>\n",
       "      <td>55</td>\n",
       "      <td>Normal</td>\n",
       "      <td>Organised</td>\n",
       "      <td>50</td>\n",
       "      <td>Medium</td>\n",
       "      <td>55</td>\n",
       "      <td>Press</td>\n",
       "      <td>45</td>\n",
       "      <td>Normal</td>\n",
       "      <td>Cover</td>\n",
       "    </tr>\n",
       "    <tr>\n",
       "      <th>1</th>\n",
       "      <td>9930</td>\n",
       "      <td>FC Aarau</td>\n",
       "      <td>2014-09-19 00:00:00</td>\n",
       "      <td>52</td>\n",
       "      <td>Balanced</td>\n",
       "      <td>48.0</td>\n",
       "      <td>Normal</td>\n",
       "      <td>56</td>\n",
       "      <td>Mixed</td>\n",
       "      <td>Organised</td>\n",
       "      <td>...</td>\n",
       "      <td>64</td>\n",
       "      <td>Normal</td>\n",
       "      <td>Organised</td>\n",
       "      <td>47</td>\n",
       "      <td>Medium</td>\n",
       "      <td>44</td>\n",
       "      <td>Press</td>\n",
       "      <td>54</td>\n",
       "      <td>Normal</td>\n",
       "      <td>Cover</td>\n",
       "    </tr>\n",
       "    <tr>\n",
       "      <th>2</th>\n",
       "      <td>9930</td>\n",
       "      <td>FC Aarau</td>\n",
       "      <td>2015-09-10 00:00:00</td>\n",
       "      <td>47</td>\n",
       "      <td>Balanced</td>\n",
       "      <td>41.0</td>\n",
       "      <td>Normal</td>\n",
       "      <td>54</td>\n",
       "      <td>Mixed</td>\n",
       "      <td>Organised</td>\n",
       "      <td>...</td>\n",
       "      <td>64</td>\n",
       "      <td>Normal</td>\n",
       "      <td>Organised</td>\n",
       "      <td>47</td>\n",
       "      <td>Medium</td>\n",
       "      <td>44</td>\n",
       "      <td>Press</td>\n",
       "      <td>54</td>\n",
       "      <td>Normal</td>\n",
       "      <td>Cover</td>\n",
       "    </tr>\n",
       "    <tr>\n",
       "      <th>3</th>\n",
       "      <td>8485</td>\n",
       "      <td>Aberdeen</td>\n",
       "      <td>2010-02-22 00:00:00</td>\n",
       "      <td>70</td>\n",
       "      <td>Fast</td>\n",
       "      <td>NaN</td>\n",
       "      <td>Little</td>\n",
       "      <td>70</td>\n",
       "      <td>Long</td>\n",
       "      <td>Organised</td>\n",
       "      <td>...</td>\n",
       "      <td>70</td>\n",
       "      <td>Lots</td>\n",
       "      <td>Organised</td>\n",
       "      <td>60</td>\n",
       "      <td>Medium</td>\n",
       "      <td>70</td>\n",
       "      <td>Double</td>\n",
       "      <td>70</td>\n",
       "      <td>Wide</td>\n",
       "      <td>Cover</td>\n",
       "    </tr>\n",
       "    <tr>\n",
       "      <th>4</th>\n",
       "      <td>8485</td>\n",
       "      <td>Aberdeen</td>\n",
       "      <td>2011-02-22 00:00:00</td>\n",
       "      <td>47</td>\n",
       "      <td>Balanced</td>\n",
       "      <td>NaN</td>\n",
       "      <td>Little</td>\n",
       "      <td>52</td>\n",
       "      <td>Mixed</td>\n",
       "      <td>Organised</td>\n",
       "      <td>...</td>\n",
       "      <td>52</td>\n",
       "      <td>Normal</td>\n",
       "      <td>Organised</td>\n",
       "      <td>47</td>\n",
       "      <td>Medium</td>\n",
       "      <td>47</td>\n",
       "      <td>Press</td>\n",
       "      <td>52</td>\n",
       "      <td>Normal</td>\n",
       "      <td>Cover</td>\n",
       "    </tr>\n",
       "  </tbody>\n",
       "</table>\n",
       "<p>5 rows × 24 columns</p>\n",
       "</div>"
      ],
      "text/plain": [
       "   team_id      team                 date  buildUpPlaySpeed  \\\n",
       "0     9930  FC Aarau  2010-02-22 00:00:00                60   \n",
       "1     9930  FC Aarau  2014-09-19 00:00:00                52   \n",
       "2     9930  FC Aarau  2015-09-10 00:00:00                47   \n",
       "3     8485  Aberdeen  2010-02-22 00:00:00                70   \n",
       "4     8485  Aberdeen  2011-02-22 00:00:00                47   \n",
       "\n",
       "  buildUpPlaySpeedClass  buildUpPlayDribbling buildUpPlayDribblingClass  \\\n",
       "0              Balanced                   NaN                    Little   \n",
       "1              Balanced                  48.0                    Normal   \n",
       "2              Balanced                  41.0                    Normal   \n",
       "3                  Fast                   NaN                    Little   \n",
       "4              Balanced                   NaN                    Little   \n",
       "\n",
       "   buildUpPlayPassing buildUpPlayPassingClass buildUpPlayPositioningClass  \\\n",
       "0                  50                   Mixed                   Organised   \n",
       "1                  56                   Mixed                   Organised   \n",
       "2                  54                   Mixed                   Organised   \n",
       "3                  70                    Long                   Organised   \n",
       "4                  52                   Mixed                   Organised   \n",
       "\n",
       "   ...  chanceCreationShooting chanceCreationShootingClass  \\\n",
       "0  ...                      55                      Normal   \n",
       "1  ...                      64                      Normal   \n",
       "2  ...                      64                      Normal   \n",
       "3  ...                      70                        Lots   \n",
       "4  ...                      52                      Normal   \n",
       "\n",
       "   chanceCreationPositioningClass defencePressure  defencePressureClass  \\\n",
       "0                       Organised              50                Medium   \n",
       "1                       Organised              47                Medium   \n",
       "2                       Organised              47                Medium   \n",
       "3                       Organised              60                Medium   \n",
       "4                       Organised              47                Medium   \n",
       "\n",
       "  defenceAggression defenceAggressionClass  defenceTeamWidth  \\\n",
       "0                55                  Press                45   \n",
       "1                44                  Press                54   \n",
       "2                44                  Press                54   \n",
       "3                70                 Double                70   \n",
       "4                47                  Press                52   \n",
       "\n",
       "  defenceTeamWidthClass  defenceDefenderLineClass  \n",
       "0                Normal                     Cover  \n",
       "1                Normal                     Cover  \n",
       "2                Normal                     Cover  \n",
       "3                  Wide                     Cover  \n",
       "4                Normal                     Cover  \n",
       "\n",
       "[5 rows x 24 columns]"
      ]
     },
     "execution_count": 11,
     "metadata": {},
     "output_type": "execute_result"
    }
   ],
   "source": [
    "teams.head()"
   ]
  },
  {
   "cell_type": "code",
   "execution_count": 12,
   "metadata": {
    "scrolled": false
   },
   "outputs": [
    {
     "name": "stdout",
     "output_type": "stream",
     "text": [
      "<class 'pandas.core.frame.DataFrame'>\n",
      "RangeIndex: 1458 entries, 0 to 1457\n",
      "Data columns (total 24 columns):\n",
      " #   Column                          Non-Null Count  Dtype  \n",
      "---  ------                          --------------  -----  \n",
      " 0   team_id                         1458 non-null   int64  \n",
      " 1   team                            1458 non-null   object \n",
      " 2   date                            1458 non-null   object \n",
      " 3   buildUpPlaySpeed                1458 non-null   int64  \n",
      " 4   buildUpPlaySpeedClass           1458 non-null   object \n",
      " 5   buildUpPlayDribbling            489 non-null    float64\n",
      " 6   buildUpPlayDribblingClass       1458 non-null   object \n",
      " 7   buildUpPlayPassing              1458 non-null   int64  \n",
      " 8   buildUpPlayPassingClass         1458 non-null   object \n",
      " 9   buildUpPlayPositioningClass     1458 non-null   object \n",
      " 10  chanceCreationPassing           1458 non-null   int64  \n",
      " 11  chanceCreationPassingClass      1458 non-null   object \n",
      " 12  chanceCreationCrossing          1458 non-null   int64  \n",
      " 13  chanceCreationCrossingClass     1458 non-null   object \n",
      " 14  chanceCreationShooting          1458 non-null   int64  \n",
      " 15  chanceCreationShootingClass     1458 non-null   object \n",
      " 16  chanceCreationPositioningClass  1458 non-null   object \n",
      " 17  defencePressure                 1458 non-null   int64  \n",
      " 18  defencePressureClass            1458 non-null   object \n",
      " 19  defenceAggression               1458 non-null   int64  \n",
      " 20  defenceAggressionClass          1458 non-null   object \n",
      " 21  defenceTeamWidth                1458 non-null   int64  \n",
      " 22  defenceTeamWidthClass           1458 non-null   object \n",
      " 23  defenceDefenderLineClass        1458 non-null   object \n",
      "dtypes: float64(1), int64(9), object(14)\n",
      "memory usage: 273.5+ KB\n"
     ]
    }
   ],
   "source": [
    "teams.info()"
   ]
  },
  {
   "cell_type": "code",
   "execution_count": 13,
   "metadata": {},
   "outputs": [
    {
     "data": {
      "text/plain": [
       "1"
      ]
     },
     "execution_count": 13,
     "metadata": {},
     "output_type": "execute_result"
    }
   ],
   "source": [
    "teams.duplicated().sum()"
   ]
  },
  {
   "cell_type": "code",
   "execution_count": 14,
   "metadata": {},
   "outputs": [
    {
     "data": {
      "text/html": [
       "<div>\n",
       "<style scoped>\n",
       "    .dataframe tbody tr th:only-of-type {\n",
       "        vertical-align: middle;\n",
       "    }\n",
       "\n",
       "    .dataframe tbody tr th {\n",
       "        vertical-align: top;\n",
       "    }\n",
       "\n",
       "    .dataframe thead th {\n",
       "        text-align: right;\n",
       "    }\n",
       "</style>\n",
       "<table border=\"1\" class=\"dataframe\">\n",
       "  <thead>\n",
       "    <tr style=\"text-align: right;\">\n",
       "      <th></th>\n",
       "      <th>team_id</th>\n",
       "      <th>team</th>\n",
       "      <th>date</th>\n",
       "      <th>buildUpPlaySpeed</th>\n",
       "      <th>buildUpPlaySpeedClass</th>\n",
       "      <th>buildUpPlayDribbling</th>\n",
       "      <th>buildUpPlayDribblingClass</th>\n",
       "      <th>buildUpPlayPassing</th>\n",
       "      <th>buildUpPlayPassingClass</th>\n",
       "      <th>buildUpPlayPositioningClass</th>\n",
       "      <th>...</th>\n",
       "      <th>chanceCreationShooting</th>\n",
       "      <th>chanceCreationShootingClass</th>\n",
       "      <th>chanceCreationPositioningClass</th>\n",
       "      <th>defencePressure</th>\n",
       "      <th>defencePressureClass</th>\n",
       "      <th>defenceAggression</th>\n",
       "      <th>defenceAggressionClass</th>\n",
       "      <th>defenceTeamWidth</th>\n",
       "      <th>defenceTeamWidthClass</th>\n",
       "      <th>defenceDefenderLineClass</th>\n",
       "    </tr>\n",
       "  </thead>\n",
       "  <tbody>\n",
       "    <tr>\n",
       "      <th>860</th>\n",
       "      <td>9996</td>\n",
       "      <td>Royal Excel Mouscron</td>\n",
       "      <td>2015-09-10 00:00:00</td>\n",
       "      <td>50</td>\n",
       "      <td>Balanced</td>\n",
       "      <td>50.0</td>\n",
       "      <td>Normal</td>\n",
       "      <td>50</td>\n",
       "      <td>Mixed</td>\n",
       "      <td>Organised</td>\n",
       "      <td>...</td>\n",
       "      <td>50</td>\n",
       "      <td>Normal</td>\n",
       "      <td>Organised</td>\n",
       "      <td>45</td>\n",
       "      <td>Medium</td>\n",
       "      <td>45</td>\n",
       "      <td>Press</td>\n",
       "      <td>50</td>\n",
       "      <td>Normal</td>\n",
       "      <td>Cover</td>\n",
       "    </tr>\n",
       "  </tbody>\n",
       "</table>\n",
       "<p>1 rows × 24 columns</p>\n",
       "</div>"
      ],
      "text/plain": [
       "     team_id                  team                 date  buildUpPlaySpeed  \\\n",
       "860     9996  Royal Excel Mouscron  2015-09-10 00:00:00                50   \n",
       "\n",
       "    buildUpPlaySpeedClass  buildUpPlayDribbling buildUpPlayDribblingClass  \\\n",
       "860              Balanced                  50.0                    Normal   \n",
       "\n",
       "     buildUpPlayPassing buildUpPlayPassingClass buildUpPlayPositioningClass  \\\n",
       "860                  50                   Mixed                   Organised   \n",
       "\n",
       "     ...  chanceCreationShooting chanceCreationShootingClass  \\\n",
       "860  ...                      50                      Normal   \n",
       "\n",
       "     chanceCreationPositioningClass defencePressure  defencePressureClass  \\\n",
       "860                       Organised              45                Medium   \n",
       "\n",
       "    defenceAggression defenceAggressionClass  defenceTeamWidth  \\\n",
       "860                45                  Press                50   \n",
       "\n",
       "    defenceTeamWidthClass  defenceDefenderLineClass  \n",
       "860                Normal                     Cover  \n",
       "\n",
       "[1 rows x 24 columns]"
      ]
     },
     "execution_count": 14,
     "metadata": {},
     "output_type": "execute_result"
    }
   ],
   "source": [
    "teams[teams.duplicated()]"
   ]
  },
  {
   "cell_type": "code",
   "execution_count": 15,
   "metadata": {
    "scrolled": true
   },
   "outputs": [
    {
     "data": {
      "text/plain": [
       "team_id                             0\n",
       "team                                0\n",
       "date                                0\n",
       "buildUpPlaySpeed                    0\n",
       "buildUpPlaySpeedClass               0\n",
       "buildUpPlayDribbling              969\n",
       "buildUpPlayDribblingClass           0\n",
       "buildUpPlayPassing                  0\n",
       "buildUpPlayPassingClass             0\n",
       "buildUpPlayPositioningClass         0\n",
       "chanceCreationPassing               0\n",
       "chanceCreationPassingClass          0\n",
       "chanceCreationCrossing              0\n",
       "chanceCreationCrossingClass         0\n",
       "chanceCreationShooting              0\n",
       "chanceCreationShootingClass         0\n",
       "chanceCreationPositioningClass      0\n",
       "defencePressure                     0\n",
       "defencePressureClass                0\n",
       "defenceAggression                   0\n",
       "defenceAggressionClass              0\n",
       "defenceTeamWidth                    0\n",
       "defenceTeamWidthClass               0\n",
       "defenceDefenderLineClass            0\n",
       "dtype: int64"
      ]
     },
     "execution_count": 15,
     "metadata": {},
     "output_type": "execute_result"
    }
   ],
   "source": [
    "teams.isnull().sum()"
   ]
  },
  {
   "cell_type": "code",
   "execution_count": 16,
   "metadata": {},
   "outputs": [
    {
     "data": {
      "text/html": [
       "<div>\n",
       "<style scoped>\n",
       "    .dataframe tbody tr th:only-of-type {\n",
       "        vertical-align: middle;\n",
       "    }\n",
       "\n",
       "    .dataframe tbody tr th {\n",
       "        vertical-align: top;\n",
       "    }\n",
       "\n",
       "    .dataframe thead th {\n",
       "        text-align: right;\n",
       "    }\n",
       "</style>\n",
       "<table border=\"1\" class=\"dataframe\">\n",
       "  <thead>\n",
       "    <tr style=\"text-align: right;\">\n",
       "      <th></th>\n",
       "      <th>match_id</th>\n",
       "      <th>country</th>\n",
       "      <th>league</th>\n",
       "      <th>season</th>\n",
       "      <th>stage</th>\n",
       "      <th>date</th>\n",
       "      <th>home_team</th>\n",
       "      <th>away_team</th>\n",
       "      <th>home_goal</th>\n",
       "      <th>away_goal</th>\n",
       "    </tr>\n",
       "  </thead>\n",
       "  <tbody>\n",
       "    <tr>\n",
       "      <th>0</th>\n",
       "      <td>492473</td>\n",
       "      <td>Belgium</td>\n",
       "      <td>Belgium Jupiler League</td>\n",
       "      <td>2008/2009</td>\n",
       "      <td>1</td>\n",
       "      <td>2008-08-17 00:00:00</td>\n",
       "      <td>KRC Genk</td>\n",
       "      <td>Beerschot AC</td>\n",
       "      <td>1</td>\n",
       "      <td>1</td>\n",
       "    </tr>\n",
       "    <tr>\n",
       "      <th>1</th>\n",
       "      <td>492474</td>\n",
       "      <td>Belgium</td>\n",
       "      <td>Belgium Jupiler League</td>\n",
       "      <td>2008/2009</td>\n",
       "      <td>1</td>\n",
       "      <td>2008-08-16 00:00:00</td>\n",
       "      <td>SV Zulte-Waregem</td>\n",
       "      <td>Sporting Lokeren</td>\n",
       "      <td>0</td>\n",
       "      <td>0</td>\n",
       "    </tr>\n",
       "    <tr>\n",
       "      <th>2</th>\n",
       "      <td>492475</td>\n",
       "      <td>Belgium</td>\n",
       "      <td>Belgium Jupiler League</td>\n",
       "      <td>2008/2009</td>\n",
       "      <td>1</td>\n",
       "      <td>2008-08-16 00:00:00</td>\n",
       "      <td>KSV Cercle Brugge</td>\n",
       "      <td>RSC Anderlecht</td>\n",
       "      <td>0</td>\n",
       "      <td>3</td>\n",
       "    </tr>\n",
       "    <tr>\n",
       "      <th>3</th>\n",
       "      <td>492476</td>\n",
       "      <td>Belgium</td>\n",
       "      <td>Belgium Jupiler League</td>\n",
       "      <td>2008/2009</td>\n",
       "      <td>1</td>\n",
       "      <td>2008-08-17 00:00:00</td>\n",
       "      <td>KAA Gent</td>\n",
       "      <td>RAEC Mons</td>\n",
       "      <td>5</td>\n",
       "      <td>0</td>\n",
       "    </tr>\n",
       "    <tr>\n",
       "      <th>4</th>\n",
       "      <td>492477</td>\n",
       "      <td>Belgium</td>\n",
       "      <td>Belgium Jupiler League</td>\n",
       "      <td>2008/2009</td>\n",
       "      <td>1</td>\n",
       "      <td>2008-08-16 00:00:00</td>\n",
       "      <td>FCV Dender EH</td>\n",
       "      <td>Standard de Liège</td>\n",
       "      <td>1</td>\n",
       "      <td>3</td>\n",
       "    </tr>\n",
       "  </tbody>\n",
       "</table>\n",
       "</div>"
      ],
      "text/plain": [
       "   match_id  country                  league     season  stage  \\\n",
       "0    492473  Belgium  Belgium Jupiler League  2008/2009      1   \n",
       "1    492474  Belgium  Belgium Jupiler League  2008/2009      1   \n",
       "2    492475  Belgium  Belgium Jupiler League  2008/2009      1   \n",
       "3    492476  Belgium  Belgium Jupiler League  2008/2009      1   \n",
       "4    492477  Belgium  Belgium Jupiler League  2008/2009      1   \n",
       "\n",
       "                  date          home_team          away_team  home_goal  \\\n",
       "0  2008-08-17 00:00:00           KRC Genk       Beerschot AC          1   \n",
       "1  2008-08-16 00:00:00   SV Zulte-Waregem   Sporting Lokeren          0   \n",
       "2  2008-08-16 00:00:00  KSV Cercle Brugge     RSC Anderlecht          0   \n",
       "3  2008-08-17 00:00:00           KAA Gent          RAEC Mons          5   \n",
       "4  2008-08-16 00:00:00      FCV Dender EH  Standard de Liège          1   \n",
       "\n",
       "   away_goal  \n",
       "0          1  \n",
       "1          0  \n",
       "2          3  \n",
       "3          0  \n",
       "4          3  "
      ]
     },
     "execution_count": 16,
     "metadata": {},
     "output_type": "execute_result"
    }
   ],
   "source": [
    "match.head()"
   ]
  },
  {
   "cell_type": "code",
   "execution_count": 17,
   "metadata": {},
   "outputs": [
    {
     "name": "stdout",
     "output_type": "stream",
     "text": [
      "<class 'pandas.core.frame.DataFrame'>\n",
      "RangeIndex: 25979 entries, 0 to 25978\n",
      "Data columns (total 10 columns):\n",
      " #   Column     Non-Null Count  Dtype \n",
      "---  ------     --------------  ----- \n",
      " 0   match_id   25979 non-null  int64 \n",
      " 1   country    25979 non-null  object\n",
      " 2   league     25979 non-null  object\n",
      " 3   season     25979 non-null  object\n",
      " 4   stage      25979 non-null  int64 \n",
      " 5   date       25979 non-null  object\n",
      " 6   home_team  25979 non-null  object\n",
      " 7   away_team  25979 non-null  object\n",
      " 8   home_goal  25979 non-null  int64 \n",
      " 9   away_goal  25979 non-null  int64 \n",
      "dtypes: int64(4), object(6)\n",
      "memory usage: 2.0+ MB\n"
     ]
    }
   ],
   "source": [
    "match.info()"
   ]
  },
  {
   "cell_type": "code",
   "execution_count": 18,
   "metadata": {},
   "outputs": [
    {
     "data": {
      "text/plain": [
       "0"
      ]
     },
     "execution_count": 18,
     "metadata": {},
     "output_type": "execute_result"
    }
   ],
   "source": [
    "match.duplicated().sum()"
   ]
  },
  {
   "cell_type": "code",
   "execution_count": 19,
   "metadata": {
    "scrolled": true
   },
   "outputs": [
    {
     "data": {
      "text/plain": [
       "match_id     0\n",
       "country      0\n",
       "league       0\n",
       "season       0\n",
       "stage        0\n",
       "date         0\n",
       "home_team    0\n",
       "away_team    0\n",
       "home_goal    0\n",
       "away_goal    0\n",
       "dtype: int64"
      ]
     },
     "execution_count": 19,
     "metadata": {},
     "output_type": "execute_result"
    }
   ],
   "source": [
    "match.isnull().sum()"
   ]
  },
  {
   "cell_type": "markdown",
   "metadata": {},
   "source": [
    "#### 1) Quality\n",
    "\n",
    "1. 'player_id', 'team_id' & 'match_id' dtypes are inconsistent\n",
    "2. 'birthday' & 'date' (in the three datasets) dtypes are inconsistent\n",
    "3. 'birthday' is less meaningful than age\n",
    "4. Missing data of 'buildUpPlayDribbling' in teams\n",
    "5. Missing data in players\n",
    "6. Duplicate data in players and teams"
   ]
  },
  {
   "cell_type": "markdown",
   "metadata": {},
   "source": [
    "### Data Cleaning"
   ]
  },
  {
   "cell_type": "markdown",
   "metadata": {},
   "source": [
    "* #### Creating copies of the data in order to start cleaning them"
   ]
  },
  {
   "cell_type": "code",
   "execution_count": 20,
   "metadata": {},
   "outputs": [],
   "source": [
    "players_clean = players.copy()\n",
    "teams_clean = teams.copy()\n",
    "match_clean = match.copy()"
   ]
  },
  {
   "cell_type": "markdown",
   "metadata": {},
   "source": [
    "#### 1) Quality"
   ]
  },
  {
   "cell_type": "markdown",
   "metadata": {},
   "source": [
    "##### 1. player_id, team_id & match_id dtypes are inconsistent\n",
    "* Convert all 'ids' dtypes to strings"
   ]
  },
  {
   "cell_type": "code",
   "execution_count": 21,
   "metadata": {},
   "outputs": [],
   "source": [
    "players_clean.player_id = players_clean.player_id.astype('str')\n",
    "\n",
    "teams_clean.team_id = teams_clean.team_id.astype('str')\n",
    "\n",
    "match_clean.match_id = match_clean.match_id.astype('str')"
   ]
  },
  {
   "cell_type": "code",
   "execution_count": 22,
   "metadata": {},
   "outputs": [
    {
     "name": "stdout",
     "output_type": "stream",
     "text": [
      "<class 'pandas.core.frame.DataFrame'>\n",
      "RangeIndex: 25979 entries, 0 to 25978\n",
      "Data columns (total 10 columns):\n",
      " #   Column     Non-Null Count  Dtype \n",
      "---  ------     --------------  ----- \n",
      " 0   match_id   25979 non-null  object\n",
      " 1   country    25979 non-null  object\n",
      " 2   league     25979 non-null  object\n",
      " 3   season     25979 non-null  object\n",
      " 4   stage      25979 non-null  int64 \n",
      " 5   date       25979 non-null  object\n",
      " 6   home_team  25979 non-null  object\n",
      " 7   away_team  25979 non-null  object\n",
      " 8   home_goal  25979 non-null  int64 \n",
      " 9   away_goal  25979 non-null  int64 \n",
      "dtypes: int64(3), object(7)\n",
      "memory usage: 2.0+ MB\n"
     ]
    }
   ],
   "source": [
    "match_clean.info()"
   ]
  },
  {
   "cell_type": "markdown",
   "metadata": {},
   "source": [
    "#### 2. birthday & date (in the three datasets) dtypes are inconsistent\n",
    "* Convert all dates dtypes to datetime"
   ]
  },
  {
   "cell_type": "code",
   "execution_count": 23,
   "metadata": {},
   "outputs": [],
   "source": [
    "players_clean.date = pd.to_datetime(players_clean.date)\n",
    "players_clean.birthday = pd.to_datetime(players_clean.birthday)\n",
    "\n",
    "teams_clean.date = pd.to_datetime(teams_clean.date)\n",
    "\n",
    "match_clean.date = pd.to_datetime(match_clean.date)"
   ]
  },
  {
   "cell_type": "code",
   "execution_count": 24,
   "metadata": {
    "scrolled": false
   },
   "outputs": [
    {
     "name": "stdout",
     "output_type": "stream",
     "text": [
      "<class 'pandas.core.frame.DataFrame'>\n",
      "RangeIndex: 25979 entries, 0 to 25978\n",
      "Data columns (total 10 columns):\n",
      " #   Column     Non-Null Count  Dtype         \n",
      "---  ------     --------------  -----         \n",
      " 0   match_id   25979 non-null  object        \n",
      " 1   country    25979 non-null  object        \n",
      " 2   league     25979 non-null  object        \n",
      " 3   season     25979 non-null  object        \n",
      " 4   stage      25979 non-null  int64         \n",
      " 5   date       25979 non-null  datetime64[ns]\n",
      " 6   home_team  25979 non-null  object        \n",
      " 7   away_team  25979 non-null  object        \n",
      " 8   home_goal  25979 non-null  int64         \n",
      " 9   away_goal  25979 non-null  int64         \n",
      "dtypes: datetime64[ns](1), int64(3), object(6)\n",
      "memory usage: 2.0+ MB\n"
     ]
    }
   ],
   "source": [
    "match_clean.info()"
   ]
  },
  {
   "cell_type": "markdown",
   "metadata": {},
   "source": [
    "##### 3. 'birthday' is less meaningful than age\n",
    "* Replace 'birthday' column with 'age' column after calculating it using 'date'"
   ]
  },
  {
   "cell_type": "code",
   "execution_count": 25,
   "metadata": {},
   "outputs": [],
   "source": [
    "# Calculate ages in days\n",
    "players_clean['ages'] = players_clean.date - players_clean.birthday\n",
    "# Convert days into years\n",
    "ages = []\n",
    "for i in players_clean.ages:\n",
    "    g = round(int(str(i)[:-13])/365.2422, 1)\n",
    "    ages.append(g)\n",
    "\n",
    "players_clean.insert(loc=2, column='age', value= ages)\n",
    "# Drop unnecessary columns\n",
    "players_clean.drop(columns=['birthday', 'ages'], inplace=True)"
   ]
  },
  {
   "cell_type": "code",
   "execution_count": 26,
   "metadata": {},
   "outputs": [
    {
     "data": {
      "text/html": [
       "<div>\n",
       "<style scoped>\n",
       "    .dataframe tbody tr th:only-of-type {\n",
       "        vertical-align: middle;\n",
       "    }\n",
       "\n",
       "    .dataframe tbody tr th {\n",
       "        vertical-align: top;\n",
       "    }\n",
       "\n",
       "    .dataframe thead th {\n",
       "        text-align: right;\n",
       "    }\n",
       "</style>\n",
       "<table border=\"1\" class=\"dataframe\">\n",
       "  <thead>\n",
       "    <tr style=\"text-align: right;\">\n",
       "      <th></th>\n",
       "      <th>player_id</th>\n",
       "      <th>player</th>\n",
       "      <th>age</th>\n",
       "      <th>height</th>\n",
       "      <th>weight</th>\n",
       "      <th>date</th>\n",
       "      <th>overall_rating</th>\n",
       "      <th>potential</th>\n",
       "      <th>preferred_foot</th>\n",
       "      <th>attacking_work_rate</th>\n",
       "      <th>...</th>\n",
       "      <th>vision</th>\n",
       "      <th>penalties</th>\n",
       "      <th>marking</th>\n",
       "      <th>standing_tackle</th>\n",
       "      <th>sliding_tackle</th>\n",
       "      <th>gk_diving</th>\n",
       "      <th>gk_handling</th>\n",
       "      <th>gk_kicking</th>\n",
       "      <th>gk_positioning</th>\n",
       "      <th>gk_reflexes</th>\n",
       "    </tr>\n",
       "  </thead>\n",
       "  <tbody>\n",
       "    <tr>\n",
       "      <th>0</th>\n",
       "      <td>505942</td>\n",
       "      <td>Aaron Appindangoye</td>\n",
       "      <td>24.0</td>\n",
       "      <td>182.88</td>\n",
       "      <td>187</td>\n",
       "      <td>2016-02-18</td>\n",
       "      <td>67.0</td>\n",
       "      <td>71.0</td>\n",
       "      <td>right</td>\n",
       "      <td>medium</td>\n",
       "      <td>...</td>\n",
       "      <td>54.0</td>\n",
       "      <td>48.0</td>\n",
       "      <td>65.0</td>\n",
       "      <td>69.0</td>\n",
       "      <td>69.0</td>\n",
       "      <td>6.0</td>\n",
       "      <td>11.0</td>\n",
       "      <td>10.0</td>\n",
       "      <td>8.0</td>\n",
       "      <td>8.0</td>\n",
       "    </tr>\n",
       "    <tr>\n",
       "      <th>1</th>\n",
       "      <td>505942</td>\n",
       "      <td>Aaron Appindangoye</td>\n",
       "      <td>23.7</td>\n",
       "      <td>182.88</td>\n",
       "      <td>187</td>\n",
       "      <td>2015-11-19</td>\n",
       "      <td>67.0</td>\n",
       "      <td>71.0</td>\n",
       "      <td>right</td>\n",
       "      <td>medium</td>\n",
       "      <td>...</td>\n",
       "      <td>54.0</td>\n",
       "      <td>48.0</td>\n",
       "      <td>65.0</td>\n",
       "      <td>69.0</td>\n",
       "      <td>69.0</td>\n",
       "      <td>6.0</td>\n",
       "      <td>11.0</td>\n",
       "      <td>10.0</td>\n",
       "      <td>8.0</td>\n",
       "      <td>8.0</td>\n",
       "    </tr>\n",
       "  </tbody>\n",
       "</table>\n",
       "<p>2 rows × 44 columns</p>\n",
       "</div>"
      ],
      "text/plain": [
       "  player_id              player   age  height  weight       date  \\\n",
       "0    505942  Aaron Appindangoye  24.0  182.88     187 2016-02-18   \n",
       "1    505942  Aaron Appindangoye  23.7  182.88     187 2015-11-19   \n",
       "\n",
       "   overall_rating  potential preferred_foot attacking_work_rate  ... vision  \\\n",
       "0            67.0       71.0          right              medium  ...   54.0   \n",
       "1            67.0       71.0          right              medium  ...   54.0   \n",
       "\n",
       "   penalties  marking  standing_tackle  sliding_tackle  gk_diving  \\\n",
       "0       48.0     65.0             69.0            69.0        6.0   \n",
       "1       48.0     65.0             69.0            69.0        6.0   \n",
       "\n",
       "   gk_handling  gk_kicking  gk_positioning  gk_reflexes  \n",
       "0         11.0        10.0             8.0          8.0  \n",
       "1         11.0        10.0             8.0          8.0  \n",
       "\n",
       "[2 rows x 44 columns]"
      ]
     },
     "execution_count": 26,
     "metadata": {},
     "output_type": "execute_result"
    }
   ],
   "source": [
    "players_clean.head(2)"
   ]
  },
  {
   "cell_type": "markdown",
   "metadata": {},
   "source": [
    "##### 4. Missing data of 'buildUpPlayDribbling' in teams\n",
    "1. Group data by 'buildUpPlayDribblingClass' to find the mean of each class\n",
    "2. Fill null values with the mean of each class"
   ]
  },
  {
   "cell_type": "code",
   "execution_count": 27,
   "metadata": {},
   "outputs": [
    {
     "data": {
      "text/plain": [
       "buildUpPlayDribblingClass\n",
       "Little    30.485714\n",
       "Lots      69.809524\n",
       "Normal    49.043880\n",
       "Name: buildUpPlayDribbling, dtype: float64"
      ]
     },
     "execution_count": 27,
     "metadata": {},
     "output_type": "execute_result"
    }
   ],
   "source": [
    "teams_clean.groupby('buildUpPlayDribblingClass')['buildUpPlayDribbling'].mean()"
   ]
  },
  {
   "cell_type": "code",
   "execution_count": 28,
   "metadata": {},
   "outputs": [
    {
     "data": {
      "text/plain": [
       "(30.5, 69.8, 49.0)"
      ]
     },
     "execution_count": 28,
     "metadata": {},
     "output_type": "execute_result"
    }
   ],
   "source": [
    "little_mean = round(teams_clean.groupby('buildUpPlayDribblingClass')['buildUpPlayDribbling'].mean()[0], 1)\n",
    "lots_mean = round(teams_clean.groupby('buildUpPlayDribblingClass')['buildUpPlayDribbling'].mean()[1], 1)\n",
    "normal_mean = round(teams_clean.groupby('buildUpPlayDribblingClass')['buildUpPlayDribbling'].mean()[2], 1)\n",
    "little_mean, lots_mean, normal_mean"
   ]
  },
  {
   "cell_type": "code",
   "execution_count": 29,
   "metadata": {},
   "outputs": [],
   "source": [
    "buildUpPlayDribbling_list = []\n",
    "\n",
    "for i, _class in enumerate(teams_clean.buildUpPlayDribblingClass):\n",
    "    try:\n",
    "        if not np.isnan(teams_clean.buildUpPlayDribbling[i]):\n",
    "            buildUpPlayDribbling_list.append(teams_clean.buildUpPlayDribbling[i])\n",
    "        elif _class == 'Little' and np.isnan(teams_clean.buildUpPlayDribbling[i]):\n",
    "            buildUpPlayDribbling_list.append(little_mean)\n",
    "        elif _class == 'Lots' and np.isnan(teams_clean.buildUpPlayDribbling[i]):\n",
    "            buildUpPlayDribbling_list.append(little_mean)\n",
    "        elif _class == 'Normal' and np.isnan(teams_clean.buildUpPlayDribbling[i]):\n",
    "            buildUpPlayDribbling_list.append(normal_mean)\n",
    "    except:\n",
    "        continue\n",
    "\n",
    "teams_clean['buildUpPlayDribbling'] = buildUpPlayDribbling_list"
   ]
  },
  {
   "cell_type": "code",
   "execution_count": 30,
   "metadata": {},
   "outputs": [
    {
     "data": {
      "text/html": [
       "<div>\n",
       "<style scoped>\n",
       "    .dataframe tbody tr th:only-of-type {\n",
       "        vertical-align: middle;\n",
       "    }\n",
       "\n",
       "    .dataframe tbody tr th {\n",
       "        vertical-align: top;\n",
       "    }\n",
       "\n",
       "    .dataframe thead th {\n",
       "        text-align: right;\n",
       "    }\n",
       "</style>\n",
       "<table border=\"1\" class=\"dataframe\">\n",
       "  <thead>\n",
       "    <tr style=\"text-align: right;\">\n",
       "      <th></th>\n",
       "      <th>team_id</th>\n",
       "      <th>team</th>\n",
       "      <th>date</th>\n",
       "      <th>buildUpPlaySpeed</th>\n",
       "      <th>buildUpPlaySpeedClass</th>\n",
       "      <th>buildUpPlayDribbling</th>\n",
       "      <th>buildUpPlayDribblingClass</th>\n",
       "      <th>buildUpPlayPassing</th>\n",
       "      <th>buildUpPlayPassingClass</th>\n",
       "      <th>buildUpPlayPositioningClass</th>\n",
       "      <th>...</th>\n",
       "      <th>chanceCreationShooting</th>\n",
       "      <th>chanceCreationShootingClass</th>\n",
       "      <th>chanceCreationPositioningClass</th>\n",
       "      <th>defencePressure</th>\n",
       "      <th>defencePressureClass</th>\n",
       "      <th>defenceAggression</th>\n",
       "      <th>defenceAggressionClass</th>\n",
       "      <th>defenceTeamWidth</th>\n",
       "      <th>defenceTeamWidthClass</th>\n",
       "      <th>defenceDefenderLineClass</th>\n",
       "    </tr>\n",
       "  </thead>\n",
       "  <tbody>\n",
       "    <tr>\n",
       "      <th>0</th>\n",
       "      <td>9930</td>\n",
       "      <td>FC Aarau</td>\n",
       "      <td>2010-02-22</td>\n",
       "      <td>60</td>\n",
       "      <td>Balanced</td>\n",
       "      <td>30.5</td>\n",
       "      <td>Little</td>\n",
       "      <td>50</td>\n",
       "      <td>Mixed</td>\n",
       "      <td>Organised</td>\n",
       "      <td>...</td>\n",
       "      <td>55</td>\n",
       "      <td>Normal</td>\n",
       "      <td>Organised</td>\n",
       "      <td>50</td>\n",
       "      <td>Medium</td>\n",
       "      <td>55</td>\n",
       "      <td>Press</td>\n",
       "      <td>45</td>\n",
       "      <td>Normal</td>\n",
       "      <td>Cover</td>\n",
       "    </tr>\n",
       "    <tr>\n",
       "      <th>1</th>\n",
       "      <td>9930</td>\n",
       "      <td>FC Aarau</td>\n",
       "      <td>2014-09-19</td>\n",
       "      <td>52</td>\n",
       "      <td>Balanced</td>\n",
       "      <td>48.0</td>\n",
       "      <td>Normal</td>\n",
       "      <td>56</td>\n",
       "      <td>Mixed</td>\n",
       "      <td>Organised</td>\n",
       "      <td>...</td>\n",
       "      <td>64</td>\n",
       "      <td>Normal</td>\n",
       "      <td>Organised</td>\n",
       "      <td>47</td>\n",
       "      <td>Medium</td>\n",
       "      <td>44</td>\n",
       "      <td>Press</td>\n",
       "      <td>54</td>\n",
       "      <td>Normal</td>\n",
       "      <td>Cover</td>\n",
       "    </tr>\n",
       "    <tr>\n",
       "      <th>2</th>\n",
       "      <td>9930</td>\n",
       "      <td>FC Aarau</td>\n",
       "      <td>2015-09-10</td>\n",
       "      <td>47</td>\n",
       "      <td>Balanced</td>\n",
       "      <td>41.0</td>\n",
       "      <td>Normal</td>\n",
       "      <td>54</td>\n",
       "      <td>Mixed</td>\n",
       "      <td>Organised</td>\n",
       "      <td>...</td>\n",
       "      <td>64</td>\n",
       "      <td>Normal</td>\n",
       "      <td>Organised</td>\n",
       "      <td>47</td>\n",
       "      <td>Medium</td>\n",
       "      <td>44</td>\n",
       "      <td>Press</td>\n",
       "      <td>54</td>\n",
       "      <td>Normal</td>\n",
       "      <td>Cover</td>\n",
       "    </tr>\n",
       "    <tr>\n",
       "      <th>3</th>\n",
       "      <td>8485</td>\n",
       "      <td>Aberdeen</td>\n",
       "      <td>2010-02-22</td>\n",
       "      <td>70</td>\n",
       "      <td>Fast</td>\n",
       "      <td>30.5</td>\n",
       "      <td>Little</td>\n",
       "      <td>70</td>\n",
       "      <td>Long</td>\n",
       "      <td>Organised</td>\n",
       "      <td>...</td>\n",
       "      <td>70</td>\n",
       "      <td>Lots</td>\n",
       "      <td>Organised</td>\n",
       "      <td>60</td>\n",
       "      <td>Medium</td>\n",
       "      <td>70</td>\n",
       "      <td>Double</td>\n",
       "      <td>70</td>\n",
       "      <td>Wide</td>\n",
       "      <td>Cover</td>\n",
       "    </tr>\n",
       "    <tr>\n",
       "      <th>4</th>\n",
       "      <td>8485</td>\n",
       "      <td>Aberdeen</td>\n",
       "      <td>2011-02-22</td>\n",
       "      <td>47</td>\n",
       "      <td>Balanced</td>\n",
       "      <td>30.5</td>\n",
       "      <td>Little</td>\n",
       "      <td>52</td>\n",
       "      <td>Mixed</td>\n",
       "      <td>Organised</td>\n",
       "      <td>...</td>\n",
       "      <td>52</td>\n",
       "      <td>Normal</td>\n",
       "      <td>Organised</td>\n",
       "      <td>47</td>\n",
       "      <td>Medium</td>\n",
       "      <td>47</td>\n",
       "      <td>Press</td>\n",
       "      <td>52</td>\n",
       "      <td>Normal</td>\n",
       "      <td>Cover</td>\n",
       "    </tr>\n",
       "  </tbody>\n",
       "</table>\n",
       "<p>5 rows × 24 columns</p>\n",
       "</div>"
      ],
      "text/plain": [
       "  team_id      team       date  buildUpPlaySpeed buildUpPlaySpeedClass  \\\n",
       "0    9930  FC Aarau 2010-02-22                60              Balanced   \n",
       "1    9930  FC Aarau 2014-09-19                52              Balanced   \n",
       "2    9930  FC Aarau 2015-09-10                47              Balanced   \n",
       "3    8485  Aberdeen 2010-02-22                70                  Fast   \n",
       "4    8485  Aberdeen 2011-02-22                47              Balanced   \n",
       "\n",
       "   buildUpPlayDribbling buildUpPlayDribblingClass  buildUpPlayPassing  \\\n",
       "0                  30.5                    Little                  50   \n",
       "1                  48.0                    Normal                  56   \n",
       "2                  41.0                    Normal                  54   \n",
       "3                  30.5                    Little                  70   \n",
       "4                  30.5                    Little                  52   \n",
       "\n",
       "  buildUpPlayPassingClass buildUpPlayPositioningClass  ...  \\\n",
       "0                   Mixed                   Organised  ...   \n",
       "1                   Mixed                   Organised  ...   \n",
       "2                   Mixed                   Organised  ...   \n",
       "3                    Long                   Organised  ...   \n",
       "4                   Mixed                   Organised  ...   \n",
       "\n",
       "   chanceCreationShooting chanceCreationShootingClass  \\\n",
       "0                      55                      Normal   \n",
       "1                      64                      Normal   \n",
       "2                      64                      Normal   \n",
       "3                      70                        Lots   \n",
       "4                      52                      Normal   \n",
       "\n",
       "   chanceCreationPositioningClass defencePressure  defencePressureClass  \\\n",
       "0                       Organised              50                Medium   \n",
       "1                       Organised              47                Medium   \n",
       "2                       Organised              47                Medium   \n",
       "3                       Organised              60                Medium   \n",
       "4                       Organised              47                Medium   \n",
       "\n",
       "  defenceAggression defenceAggressionClass  defenceTeamWidth  \\\n",
       "0                55                  Press                45   \n",
       "1                44                  Press                54   \n",
       "2                44                  Press                54   \n",
       "3                70                 Double                70   \n",
       "4                47                  Press                52   \n",
       "\n",
       "  defenceTeamWidthClass  defenceDefenderLineClass  \n",
       "0                Normal                     Cover  \n",
       "1                Normal                     Cover  \n",
       "2                Normal                     Cover  \n",
       "3                  Wide                     Cover  \n",
       "4                Normal                     Cover  \n",
       "\n",
       "[5 rows x 24 columns]"
      ]
     },
     "execution_count": 30,
     "metadata": {},
     "output_type": "execute_result"
    }
   ],
   "source": [
    "teams_clean.head()"
   ]
  },
  {
   "cell_type": "markdown",
   "metadata": {},
   "source": [
    "##### 5. Missing data in players\n",
    "* Remove rows containing null values from 'players' data"
   ]
  },
  {
   "cell_type": "code",
   "execution_count": 31,
   "metadata": {},
   "outputs": [
    {
     "data": {
      "text/plain": [
       "player_id                 0\n",
       "player                    0\n",
       "age                       0\n",
       "height                    0\n",
       "weight                    0\n",
       "date                      0\n",
       "overall_rating          836\n",
       "potential               836\n",
       "preferred_foot          836\n",
       "attacking_work_rate    3230\n",
       "defensive_work_rate     836\n",
       "crossing                836\n",
       "finishing               836\n",
       "heading_accuracy        836\n",
       "short_passing           836\n",
       "volleys                2713\n",
       "dribbling               836\n",
       "curve                  2713\n",
       "free_kick_accuracy      836\n",
       "long_passing            836\n",
       "ball_control            836\n",
       "acceleration            836\n",
       "sprint_speed            836\n",
       "agility                2713\n",
       "reactions               836\n",
       "balance                2713\n",
       "shot_power              836\n",
       "jumping                2713\n",
       "stamina                 836\n",
       "strength                836\n",
       "long_shots              836\n",
       "aggression              836\n",
       "interceptions           836\n",
       "positioning             836\n",
       "vision                 2713\n",
       "penalties               836\n",
       "marking                 836\n",
       "standing_tackle         836\n",
       "sliding_tackle         2713\n",
       "gk_diving               836\n",
       "gk_handling             836\n",
       "gk_kicking              836\n",
       "gk_positioning          836\n",
       "gk_reflexes             836\n",
       "dtype: int64"
      ]
     },
     "execution_count": 31,
     "metadata": {},
     "output_type": "execute_result"
    }
   ],
   "source": [
    "players_clean.isna().sum()"
   ]
  },
  {
   "cell_type": "code",
   "execution_count": 32,
   "metadata": {},
   "outputs": [
    {
     "data": {
      "text/plain": [
       "3624"
      ]
     },
     "execution_count": 32,
     "metadata": {},
     "output_type": "execute_result"
    }
   ],
   "source": [
    "players_clean.isna().any(axis=1).sum()"
   ]
  },
  {
   "cell_type": "code",
   "execution_count": 33,
   "metadata": {},
   "outputs": [
    {
     "data": {
      "text/plain": [
       "(183978, 44)"
      ]
     },
     "execution_count": 33,
     "metadata": {},
     "output_type": "execute_result"
    }
   ],
   "source": [
    "players_clean.shape"
   ]
  },
  {
   "cell_type": "code",
   "execution_count": 34,
   "metadata": {},
   "outputs": [
    {
     "data": {
      "text/plain": [
       "'1.97%'"
      ]
     },
     "execution_count": 34,
     "metadata": {},
     "output_type": "execute_result"
    }
   ],
   "source": [
    "# Ratio of null values\n",
    "null_values_ratio = str(round(players_clean.isna().any(axis=1).sum() / players_clean.shape[0] * 100, 2)) + '%'\n",
    "null_values_ratio"
   ]
  },
  {
   "cell_type": "code",
   "execution_count": 35,
   "metadata": {},
   "outputs": [],
   "source": [
    "players_clean.dropna(inplace=True)"
   ]
  },
  {
   "cell_type": "code",
   "execution_count": 36,
   "metadata": {},
   "outputs": [
    {
     "data": {
      "text/plain": [
       "(180354, 44)"
      ]
     },
     "execution_count": 36,
     "metadata": {},
     "output_type": "execute_result"
    }
   ],
   "source": [
    "players_clean.shape"
   ]
  },
  {
   "cell_type": "markdown",
   "metadata": {},
   "source": [
    "##### 6. Duplicate data in players & teams\n",
    "* Remove duplicates from both datsets"
   ]
  },
  {
   "cell_type": "code",
   "execution_count": 37,
   "metadata": {},
   "outputs": [],
   "source": [
    "players_clean.drop_duplicates(inplace=True)\n",
    "\n",
    "teams_clean.drop_duplicates(inplace=True)"
   ]
  },
  {
   "cell_type": "code",
   "execution_count": 38,
   "metadata": {},
   "outputs": [
    {
     "data": {
      "text/plain": [
       "(0, 0)"
      ]
     },
     "execution_count": 38,
     "metadata": {},
     "output_type": "execute_result"
    }
   ],
   "source": [
    "players_clean.duplicated().sum(), teams_clean.duplicated().sum()"
   ]
  },
  {
   "cell_type": "markdown",
   "metadata": {},
   "source": [
    "* #### Creating another copy of the data in order to start exploring them"
   ]
  },
  {
   "cell_type": "code",
   "execution_count": 39,
   "metadata": {},
   "outputs": [],
   "source": [
    "players_df = players_clean"
   ]
  },
  {
   "cell_type": "code",
   "execution_count": 40,
   "metadata": {},
   "outputs": [],
   "source": [
    "teams_df = teams_clean"
   ]
  },
  {
   "cell_type": "code",
   "execution_count": 41,
   "metadata": {},
   "outputs": [],
   "source": [
    "match_df = match_clean"
   ]
  },
  {
   "cell_type": "code",
   "execution_count": 42,
   "metadata": {},
   "outputs": [],
   "source": [
    "# Defining a plotting function to ease plotting quickly\n",
    "def plotting_bar(dataframe, title: str, xlabel=None, ylabel=None, colormap='coolwarm',\n",
    "                 figsize: tuple =(20,13), horizontal=False):\n",
    "    \"\"\"\n",
    "    Input: dataframe, plot title, horizantal axis label, vertical axis label, bars colormap,\n",
    "           figure size\n",
    "    Output: If horizontal = True, a horizontal bar plot\n",
    "            else, a vertical bar plot\n",
    "    \"\"\"\n",
    "    if horizontal:\n",
    "        dataframe.plot(kind='barh', figsize=figsize, colormap=colormap, width = 0.5)\n",
    "        plt.xlabel(ylabel)\n",
    "        plt.ylabel(xlabel)\n",
    "    else:\n",
    "        dataframe.plot(kind='bar', figsize=figsize, colormap=colormap)\n",
    "        plt.xlabel(xlabel)\n",
    "        plt.ylabel(ylabel)\n",
    "    plt.title(title)\n",
    "    plt.legend()\n",
    "    plt.show();"
   ]
  },
  {
   "cell_type": "markdown",
   "metadata": {},
   "source": [
    "<a id='eda'></a>\n",
    "## Exploratory Data Analysis"
   ]
  },
  {
   "cell_type": "markdown",
   "metadata": {},
   "source": [
    "### Research Question 1: What player attributes is linked with the high potential & overall rating?\n",
    "\n",
    "* #### 1) First, we will explore all player attributes to see patterns\n",
    "* #### 2) Then, we will find the top rating players\n",
    "* #### 3) Finally, we will compare the average attributes of the top 5 rating players & the top 5 potential players to the average attributes of other players"
   ]
  },
  {
   "cell_type": "code",
   "execution_count": 43,
   "metadata": {},
   "outputs": [
    {
     "data": {
      "text/html": [
       "<div>\n",
       "<style scoped>\n",
       "    .dataframe tbody tr th:only-of-type {\n",
       "        vertical-align: middle;\n",
       "    }\n",
       "\n",
       "    .dataframe tbody tr th {\n",
       "        vertical-align: top;\n",
       "    }\n",
       "\n",
       "    .dataframe thead th {\n",
       "        text-align: right;\n",
       "    }\n",
       "</style>\n",
       "<table border=\"1\" class=\"dataframe\">\n",
       "  <thead>\n",
       "    <tr style=\"text-align: right;\">\n",
       "      <th></th>\n",
       "      <th>age</th>\n",
       "      <th>height</th>\n",
       "      <th>weight</th>\n",
       "      <th>overall_rating</th>\n",
       "      <th>potential</th>\n",
       "      <th>crossing</th>\n",
       "      <th>finishing</th>\n",
       "      <th>heading_accuracy</th>\n",
       "      <th>short_passing</th>\n",
       "      <th>volleys</th>\n",
       "      <th>...</th>\n",
       "      <th>vision</th>\n",
       "      <th>penalties</th>\n",
       "      <th>marking</th>\n",
       "      <th>standing_tackle</th>\n",
       "      <th>sliding_tackle</th>\n",
       "      <th>gk_diving</th>\n",
       "      <th>gk_handling</th>\n",
       "      <th>gk_kicking</th>\n",
       "      <th>gk_positioning</th>\n",
       "      <th>gk_reflexes</th>\n",
       "    </tr>\n",
       "  </thead>\n",
       "  <tbody>\n",
       "    <tr>\n",
       "      <th>count</th>\n",
       "      <td>180354.000000</td>\n",
       "      <td>180354.000000</td>\n",
       "      <td>180354.000000</td>\n",
       "      <td>180354.000000</td>\n",
       "      <td>180354.000000</td>\n",
       "      <td>180354.000000</td>\n",
       "      <td>180354.000000</td>\n",
       "      <td>180354.000000</td>\n",
       "      <td>180354.000000</td>\n",
       "      <td>180354.000000</td>\n",
       "      <td>...</td>\n",
       "      <td>180354.000000</td>\n",
       "      <td>180354.000000</td>\n",
       "      <td>180354.000000</td>\n",
       "      <td>180354.000000</td>\n",
       "      <td>180354.000000</td>\n",
       "      <td>180354.000000</td>\n",
       "      <td>180354.000000</td>\n",
       "      <td>180354.000000</td>\n",
       "      <td>180354.000000</td>\n",
       "      <td>180354.00000</td>\n",
       "    </tr>\n",
       "    <tr>\n",
       "      <th>mean</th>\n",
       "      <td>25.656064</td>\n",
       "      <td>181.877895</td>\n",
       "      <td>168.774593</td>\n",
       "      <td>68.635317</td>\n",
       "      <td>73.479457</td>\n",
       "      <td>55.142071</td>\n",
       "      <td>49.962136</td>\n",
       "      <td>57.263476</td>\n",
       "      <td>62.486726</td>\n",
       "      <td>49.488927</td>\n",
       "      <td>...</td>\n",
       "      <td>57.868176</td>\n",
       "      <td>54.933448</td>\n",
       "      <td>46.757433</td>\n",
       "      <td>50.354065</td>\n",
       "      <td>48.029342</td>\n",
       "      <td>14.696685</td>\n",
       "      <td>15.947786</td>\n",
       "      <td>20.526304</td>\n",
       "      <td>16.015043</td>\n",
       "      <td>16.32531</td>\n",
       "    </tr>\n",
       "    <tr>\n",
       "      <th>std</th>\n",
       "      <td>4.710280</td>\n",
       "      <td>6.398588</td>\n",
       "      <td>15.098388</td>\n",
       "      <td>7.027950</td>\n",
       "      <td>6.581963</td>\n",
       "      <td>17.247231</td>\n",
       "      <td>19.041760</td>\n",
       "      <td>16.478716</td>\n",
       "      <td>14.172493</td>\n",
       "      <td>18.252319</td>\n",
       "      <td>...</td>\n",
       "      <td>15.152408</td>\n",
       "      <td>15.556645</td>\n",
       "      <td>21.226730</td>\n",
       "      <td>21.496289</td>\n",
       "      <td>21.592830</td>\n",
       "      <td>16.841454</td>\n",
       "      <td>15.841297</td>\n",
       "      <td>21.143898</td>\n",
       "      <td>16.070772</td>\n",
       "      <td>17.18545</td>\n",
       "    </tr>\n",
       "    <tr>\n",
       "      <th>min</th>\n",
       "      <td>7.800000</td>\n",
       "      <td>157.480000</td>\n",
       "      <td>117.000000</td>\n",
       "      <td>33.000000</td>\n",
       "      <td>39.000000</td>\n",
       "      <td>1.000000</td>\n",
       "      <td>1.000000</td>\n",
       "      <td>1.000000</td>\n",
       "      <td>3.000000</td>\n",
       "      <td>1.000000</td>\n",
       "      <td>...</td>\n",
       "      <td>1.000000</td>\n",
       "      <td>2.000000</td>\n",
       "      <td>1.000000</td>\n",
       "      <td>1.000000</td>\n",
       "      <td>2.000000</td>\n",
       "      <td>1.000000</td>\n",
       "      <td>1.000000</td>\n",
       "      <td>1.000000</td>\n",
       "      <td>1.000000</td>\n",
       "      <td>1.00000</td>\n",
       "    </tr>\n",
       "    <tr>\n",
       "      <th>25%</th>\n",
       "      <td>22.200000</td>\n",
       "      <td>177.800000</td>\n",
       "      <td>159.000000</td>\n",
       "      <td>64.000000</td>\n",
       "      <td>69.000000</td>\n",
       "      <td>45.000000</td>\n",
       "      <td>34.000000</td>\n",
       "      <td>49.000000</td>\n",
       "      <td>57.000000</td>\n",
       "      <td>35.000000</td>\n",
       "      <td>...</td>\n",
       "      <td>49.000000</td>\n",
       "      <td>45.000000</td>\n",
       "      <td>25.000000</td>\n",
       "      <td>29.000000</td>\n",
       "      <td>25.000000</td>\n",
       "      <td>7.000000</td>\n",
       "      <td>8.000000</td>\n",
       "      <td>8.000000</td>\n",
       "      <td>8.000000</td>\n",
       "      <td>8.00000</td>\n",
       "    </tr>\n",
       "    <tr>\n",
       "      <th>50%</th>\n",
       "      <td>25.500000</td>\n",
       "      <td>182.880000</td>\n",
       "      <td>168.000000</td>\n",
       "      <td>69.000000</td>\n",
       "      <td>74.000000</td>\n",
       "      <td>59.000000</td>\n",
       "      <td>53.000000</td>\n",
       "      <td>60.000000</td>\n",
       "      <td>65.000000</td>\n",
       "      <td>52.000000</td>\n",
       "      <td>...</td>\n",
       "      <td>60.000000</td>\n",
       "      <td>57.000000</td>\n",
       "      <td>50.000000</td>\n",
       "      <td>56.000000</td>\n",
       "      <td>53.000000</td>\n",
       "      <td>10.000000</td>\n",
       "      <td>11.000000</td>\n",
       "      <td>12.000000</td>\n",
       "      <td>11.000000</td>\n",
       "      <td>11.00000</td>\n",
       "    </tr>\n",
       "    <tr>\n",
       "      <th>75%</th>\n",
       "      <td>28.900000</td>\n",
       "      <td>185.420000</td>\n",
       "      <td>179.000000</td>\n",
       "      <td>73.000000</td>\n",
       "      <td>78.000000</td>\n",
       "      <td>68.000000</td>\n",
       "      <td>65.000000</td>\n",
       "      <td>68.000000</td>\n",
       "      <td>72.000000</td>\n",
       "      <td>64.000000</td>\n",
       "      <td>...</td>\n",
       "      <td>69.000000</td>\n",
       "      <td>67.000000</td>\n",
       "      <td>66.000000</td>\n",
       "      <td>69.000000</td>\n",
       "      <td>67.000000</td>\n",
       "      <td>13.000000</td>\n",
       "      <td>15.000000</td>\n",
       "      <td>15.000000</td>\n",
       "      <td>15.000000</td>\n",
       "      <td>15.00000</td>\n",
       "    </tr>\n",
       "    <tr>\n",
       "      <th>max</th>\n",
       "      <td>43.800000</td>\n",
       "      <td>208.280000</td>\n",
       "      <td>243.000000</td>\n",
       "      <td>94.000000</td>\n",
       "      <td>97.000000</td>\n",
       "      <td>95.000000</td>\n",
       "      <td>97.000000</td>\n",
       "      <td>98.000000</td>\n",
       "      <td>97.000000</td>\n",
       "      <td>93.000000</td>\n",
       "      <td>...</td>\n",
       "      <td>97.000000</td>\n",
       "      <td>96.000000</td>\n",
       "      <td>94.000000</td>\n",
       "      <td>95.000000</td>\n",
       "      <td>95.000000</td>\n",
       "      <td>94.000000</td>\n",
       "      <td>93.000000</td>\n",
       "      <td>97.000000</td>\n",
       "      <td>96.000000</td>\n",
       "      <td>96.00000</td>\n",
       "    </tr>\n",
       "  </tbody>\n",
       "</table>\n",
       "<p>8 rows × 38 columns</p>\n",
       "</div>"
      ],
      "text/plain": [
       "                 age         height         weight  overall_rating  \\\n",
       "count  180354.000000  180354.000000  180354.000000   180354.000000   \n",
       "mean       25.656064     181.877895     168.774593       68.635317   \n",
       "std         4.710280       6.398588      15.098388        7.027950   \n",
       "min         7.800000     157.480000     117.000000       33.000000   \n",
       "25%        22.200000     177.800000     159.000000       64.000000   \n",
       "50%        25.500000     182.880000     168.000000       69.000000   \n",
       "75%        28.900000     185.420000     179.000000       73.000000   \n",
       "max        43.800000     208.280000     243.000000       94.000000   \n",
       "\n",
       "           potential       crossing      finishing  heading_accuracy  \\\n",
       "count  180354.000000  180354.000000  180354.000000     180354.000000   \n",
       "mean       73.479457      55.142071      49.962136         57.263476   \n",
       "std         6.581963      17.247231      19.041760         16.478716   \n",
       "min        39.000000       1.000000       1.000000          1.000000   \n",
       "25%        69.000000      45.000000      34.000000         49.000000   \n",
       "50%        74.000000      59.000000      53.000000         60.000000   \n",
       "75%        78.000000      68.000000      65.000000         68.000000   \n",
       "max        97.000000      95.000000      97.000000         98.000000   \n",
       "\n",
       "       short_passing        volleys  ...         vision      penalties  \\\n",
       "count  180354.000000  180354.000000  ...  180354.000000  180354.000000   \n",
       "mean       62.486726      49.488927  ...      57.868176      54.933448   \n",
       "std        14.172493      18.252319  ...      15.152408      15.556645   \n",
       "min         3.000000       1.000000  ...       1.000000       2.000000   \n",
       "25%        57.000000      35.000000  ...      49.000000      45.000000   \n",
       "50%        65.000000      52.000000  ...      60.000000      57.000000   \n",
       "75%        72.000000      64.000000  ...      69.000000      67.000000   \n",
       "max        97.000000      93.000000  ...      97.000000      96.000000   \n",
       "\n",
       "             marking  standing_tackle  sliding_tackle      gk_diving  \\\n",
       "count  180354.000000    180354.000000   180354.000000  180354.000000   \n",
       "mean       46.757433        50.354065       48.029342      14.696685   \n",
       "std        21.226730        21.496289       21.592830      16.841454   \n",
       "min         1.000000         1.000000        2.000000       1.000000   \n",
       "25%        25.000000        29.000000       25.000000       7.000000   \n",
       "50%        50.000000        56.000000       53.000000      10.000000   \n",
       "75%        66.000000        69.000000       67.000000      13.000000   \n",
       "max        94.000000        95.000000       95.000000      94.000000   \n",
       "\n",
       "         gk_handling     gk_kicking  gk_positioning   gk_reflexes  \n",
       "count  180354.000000  180354.000000   180354.000000  180354.00000  \n",
       "mean       15.947786      20.526304       16.015043      16.32531  \n",
       "std        15.841297      21.143898       16.070772      17.18545  \n",
       "min         1.000000       1.000000        1.000000       1.00000  \n",
       "25%         8.000000       8.000000        8.000000       8.00000  \n",
       "50%        11.000000      12.000000       11.000000      11.00000  \n",
       "75%        15.000000      15.000000       15.000000      15.00000  \n",
       "max        93.000000      97.000000       96.000000      96.00000  \n",
       "\n",
       "[8 rows x 38 columns]"
      ]
     },
     "execution_count": 43,
     "metadata": {},
     "output_type": "execute_result"
    }
   ],
   "source": [
    "players_df.describe()"
   ]
  },
  {
   "cell_type": "code",
   "execution_count": 44,
   "metadata": {
    "scrolled": false
   },
   "outputs": [
    {
     "data": {
      "text/plain": [
       "array([[<AxesSubplot:title={'center':'age'}>,\n",
       "        <AxesSubplot:title={'center':'height'}>,\n",
       "        <AxesSubplot:title={'center':'weight'}>],\n",
       "       [<AxesSubplot:title={'center':'date'}>,\n",
       "        <AxesSubplot:title={'center':'overall_rating'}>,\n",
       "        <AxesSubplot:title={'center':'potential'}>],\n",
       "       [<AxesSubplot:title={'center':'crossing'}>,\n",
       "        <AxesSubplot:title={'center':'finishing'}>,\n",
       "        <AxesSubplot:title={'center':'heading_accuracy'}>],\n",
       "       [<AxesSubplot:title={'center':'short_passing'}>, <AxesSubplot:>,\n",
       "        <AxesSubplot:>]], dtype=object)"
      ]
     },
     "execution_count": 44,
     "metadata": {},
     "output_type": "execute_result"
    },
    {
     "data": {
      "image/png": "[encoded data removed]",
      "text/plain": [
       "<Figure size 1440x720 with 12 Axes>"
      ]
     },
     "metadata": {
      "needs_background": "light"
     },
     "output_type": "display_data"
    }
   ],
   "source": [
    "players_df.iloc[:, :15].hist(figsize=(20,10))"
   ]
  },
  {
   "cell_type": "code",
   "execution_count": 45,
   "metadata": {
    "scrolled": false
   },
   "outputs": [
    {
     "data": {
      "text/plain": [
       "array([[<AxesSubplot:title={'center':'volleys'}>,\n",
       "        <AxesSubplot:title={'center':'dribbling'}>,\n",
       "        <AxesSubplot:title={'center':'curve'}>],\n",
       "       [<AxesSubplot:title={'center':'free_kick_accuracy'}>,\n",
       "        <AxesSubplot:title={'center':'long_passing'}>,\n",
       "        <AxesSubplot:title={'center':'ball_control'}>],\n",
       "       [<AxesSubplot:title={'center':'acceleration'}>,\n",
       "        <AxesSubplot:title={'center':'sprint_speed'}>,\n",
       "        <AxesSubplot:title={'center':'agility'}>]], dtype=object)"
      ]
     },
     "execution_count": 45,
     "metadata": {},
     "output_type": "execute_result"
    },
    {
     "data": {
      "image/png": "[encoded data removed]",
      "text/plain": [
       "<Figure size 1440x720 with 9 Axes>"
      ]
     },
     "metadata": {
      "needs_background": "light"
     },
     "output_type": "display_data"
    }
   ],
   "source": [
    "players_df.iloc[:, 15:24].hist(figsize=(20,10))"
   ]
  },
  {
   "cell_type": "code",
   "execution_count": 46,
   "metadata": {
    "scrolled": false
   },
   "outputs": [
    {
     "data": {
      "text/plain": [
       "array([[<AxesSubplot:title={'center':'reactions'}>,\n",
       "        <AxesSubplot:title={'center':'balance'}>,\n",
       "        <AxesSubplot:title={'center':'shot_power'}>],\n",
       "       [<AxesSubplot:title={'center':'jumping'}>,\n",
       "        <AxesSubplot:title={'center':'stamina'}>,\n",
       "        <AxesSubplot:title={'center':'strength'}>],\n",
       "       [<AxesSubplot:title={'center':'long_shots'}>,\n",
       "        <AxesSubplot:title={'center':'aggression'}>,\n",
       "        <AxesSubplot:title={'center':'interceptions'}>]], dtype=object)"
      ]
     },
     "execution_count": 46,
     "metadata": {},
     "output_type": "execute_result"
    },
    {
     "data": {
      "image/png": "[encoded data removed]",
      "text/plain": [
       "<Figure size 1440x720 with 9 Axes>"
      ]
     },
     "metadata": {
      "needs_background": "light"
     },
     "output_type": "display_data"
    }
   ],
   "source": [
    "players_df.iloc[:, 24:33].hist(figsize=(20,10))"
   ]
  },
  {
   "cell_type": "code",
   "execution_count": 47,
   "metadata": {},
   "outputs": [
    {
     "data": {
      "text/plain": [
       "array([[<AxesSubplot:title={'center':'positioning'}>,\n",
       "        <AxesSubplot:title={'center':'vision'}>,\n",
       "        <AxesSubplot:title={'center':'penalties'}>],\n",
       "       [<AxesSubplot:title={'center':'marking'}>,\n",
       "        <AxesSubplot:title={'center':'standing_tackle'}>,\n",
       "        <AxesSubplot:title={'center':'sliding_tackle'}>],\n",
       "       [<AxesSubplot:title={'center':'gk_diving'}>,\n",
       "        <AxesSubplot:title={'center':'gk_handling'}>,\n",
       "        <AxesSubplot:title={'center':'gk_kicking'}>],\n",
       "       [<AxesSubplot:title={'center':'gk_positioning'}>,\n",
       "        <AxesSubplot:title={'center':'gk_reflexes'}>, <AxesSubplot:>]],\n",
       "      dtype=object)"
      ]
     },
     "execution_count": 47,
     "metadata": {},
     "output_type": "execute_result"
    },
    {
     "data": {
      "image/png": "[encoded data removed]",
      "text/plain": [
       "<Figure size 1440x720 with 12 Axes>"
      ]
     },
     "metadata": {
      "needs_background": "light"
     },
     "output_type": "display_data"
    }
   ],
   "source": [
    "players_df.iloc[:, 33:].hist(figsize=(20,10))"
   ]
  },
  {
   "cell_type": "code",
   "execution_count": 48,
   "metadata": {},
   "outputs": [
    {
     "data": {
      "text/plain": [
       "<AxesSubplot:>"
      ]
     },
     "execution_count": 48,
     "metadata": {},
     "output_type": "execute_result"
    },
    {
     "data": {
      "image/png": "[encoded data removed]",
      "text/plain": [
       "<Figure size 1440x720 with 1 Axes>"
      ]
     },
     "metadata": {
      "needs_background": "light"
     },
     "output_type": "display_data"
    }
   ],
   "source": [
    "players.iloc[:, 5:20].boxplot(figsize=(20,10))"
   ]
  },
  {
   "cell_type": "code",
   "execution_count": 49,
   "metadata": {
    "scrolled": false
   },
   "outputs": [
    {
     "data": {
      "text/plain": [
       "<AxesSubplot:>"
      ]
     },
     "execution_count": 49,
     "metadata": {},
     "output_type": "execute_result"
    },
    {
     "data": {
      "image/png": "[encoded data removed]",
      "text/plain": [
       "<Figure size 1440x720 with 1 Axes>"
      ]
     },
     "metadata": {
      "needs_background": "light"
     },
     "output_type": "display_data"
    }
   ],
   "source": [
    "players.iloc[:, 20:32].boxplot(figsize=(20,10))"
   ]
  },
  {
   "cell_type": "code",
   "execution_count": 50,
   "metadata": {
    "scrolled": false
   },
   "outputs": [
    {
     "data": {
      "text/plain": [
       "<AxesSubplot:>"
      ]
     },
     "execution_count": 50,
     "metadata": {},
     "output_type": "execute_result"
    },
    {
     "data": {
      "image/png": "[encoded data removed]",
      "text/plain": [
       "<Figure size 1440x720 with 1 Axes>"
      ]
     },
     "metadata": {
      "needs_background": "light"
     },
     "output_type": "display_data"
    }
   ],
   "source": [
    "players.iloc[:, 32:].boxplot(figsize=(20,10))"
   ]
  },
  {
   "cell_type": "markdown",
   "metadata": {},
   "source": [
    "##### After exploring patterns of player attributes:\n",
    "* It seems to be there are a lot of outliers in almost all attributes, but actually, they are no outliers.\n",
    "* The thing is that there is a very important missing factor in these comparisons which is the position of the players or in other way the role of its player in the game.\n",
    "* As the attributes of defenders will not be like the forwards, and attributes of gool keepers will differ from those of midfielders. Of course, they might share some like (‘agility', 'reactions', 'balance', 'jumping', 'stamina', 'strength', 'aggression') but still there are big gaps between them.\n",
    "* The funny thing is that the outliers in all gool keeping attributes (gk_diving to gk_reflexes) are the data of the actual gool keepers which we should explore and study, not get rid of. Also, they are shown as  outliers because the ratio of goal keepers is about (3/23) of each team.\n",
    "* So, this is a big limitation in this dataset, not mentioning the player role in the field beside his attributes to enable us to filter by roles and get accurate and efficient analysis."
   ]
  },
  {
   "cell_type": "code",
   "execution_count": 51,
   "metadata": {
    "scrolled": false
   },
   "outputs": [
    {
     "data": {
      "text/html": [
       "<div>\n",
       "<style scoped>\n",
       "    .dataframe tbody tr th:only-of-type {\n",
       "        vertical-align: middle;\n",
       "    }\n",
       "\n",
       "    .dataframe tbody tr th {\n",
       "        vertical-align: top;\n",
       "    }\n",
       "\n",
       "    .dataframe thead th {\n",
       "        text-align: right;\n",
       "    }\n",
       "</style>\n",
       "<table border=\"1\" class=\"dataframe\">\n",
       "  <thead>\n",
       "    <tr style=\"text-align: right;\">\n",
       "      <th></th>\n",
       "      <th>age</th>\n",
       "      <th>height</th>\n",
       "      <th>weight</th>\n",
       "      <th>overall_rating</th>\n",
       "      <th>potential</th>\n",
       "      <th>crossing</th>\n",
       "      <th>finishing</th>\n",
       "      <th>heading_accuracy</th>\n",
       "      <th>short_passing</th>\n",
       "      <th>volleys</th>\n",
       "      <th>...</th>\n",
       "      <th>vision</th>\n",
       "      <th>penalties</th>\n",
       "      <th>marking</th>\n",
       "      <th>standing_tackle</th>\n",
       "      <th>sliding_tackle</th>\n",
       "      <th>gk_diving</th>\n",
       "      <th>gk_handling</th>\n",
       "      <th>gk_kicking</th>\n",
       "      <th>gk_positioning</th>\n",
       "      <th>gk_reflexes</th>\n",
       "    </tr>\n",
       "    <tr>\n",
       "      <th>player</th>\n",
       "      <th></th>\n",
       "      <th></th>\n",
       "      <th></th>\n",
       "      <th></th>\n",
       "      <th></th>\n",
       "      <th></th>\n",
       "      <th></th>\n",
       "      <th></th>\n",
       "      <th></th>\n",
       "      <th></th>\n",
       "      <th></th>\n",
       "      <th></th>\n",
       "      <th></th>\n",
       "      <th></th>\n",
       "      <th></th>\n",
       "      <th></th>\n",
       "      <th></th>\n",
       "      <th></th>\n",
       "      <th></th>\n",
       "      <th></th>\n",
       "      <th></th>\n",
       "    </tr>\n",
       "  </thead>\n",
       "  <tbody>\n",
       "    <tr>\n",
       "      <th>Lionel Messi</th>\n",
       "      <td>25.215385</td>\n",
       "      <td>170.18</td>\n",
       "      <td>159.0</td>\n",
       "      <td>92.192308</td>\n",
       "      <td>95.230769</td>\n",
       "      <td>83.346154</td>\n",
       "      <td>92.230769</td>\n",
       "      <td>69.269231</td>\n",
       "      <td>88.807692</td>\n",
       "      <td>87.538462</td>\n",
       "      <td>...</td>\n",
       "      <td>90.269231</td>\n",
       "      <td>80.153846</td>\n",
       "      <td>18.769231</td>\n",
       "      <td>21.846154</td>\n",
       "      <td>20.115385</td>\n",
       "      <td>6.461538</td>\n",
       "      <td>12.653846</td>\n",
       "      <td>29.461538</td>\n",
       "      <td>15.076923</td>\n",
       "      <td>10.615385</td>\n",
       "    </tr>\n",
       "    <tr>\n",
       "      <th>Cristiano Ronaldo</th>\n",
       "      <td>27.404000</td>\n",
       "      <td>185.42</td>\n",
       "      <td>176.0</td>\n",
       "      <td>91.280000</td>\n",
       "      <td>93.480000</td>\n",
       "      <td>83.880000</td>\n",
       "      <td>91.120000</td>\n",
       "      <td>85.520000</td>\n",
       "      <td>82.280000</td>\n",
       "      <td>85.560000</td>\n",
       "      <td>...</td>\n",
       "      <td>80.680000</td>\n",
       "      <td>83.600000</td>\n",
       "      <td>22.120000</td>\n",
       "      <td>30.840000</td>\n",
       "      <td>23.000000</td>\n",
       "      <td>7.480000</td>\n",
       "      <td>12.960000</td>\n",
       "      <td>28.440000</td>\n",
       "      <td>15.160000</td>\n",
       "      <td>12.760000</td>\n",
       "    </tr>\n",
       "    <tr>\n",
       "      <th>Neymar</th>\n",
       "      <td>21.176000</td>\n",
       "      <td>175.26</td>\n",
       "      <td>150.0</td>\n",
       "      <td>83.800000</td>\n",
       "      <td>90.760000</td>\n",
       "      <td>70.320000</td>\n",
       "      <td>83.480000</td>\n",
       "      <td>63.320000</td>\n",
       "      <td>75.680000</td>\n",
       "      <td>81.240000</td>\n",
       "      <td>...</td>\n",
       "      <td>76.840000</td>\n",
       "      <td>79.760000</td>\n",
       "      <td>21.000000</td>\n",
       "      <td>26.960000</td>\n",
       "      <td>33.000000</td>\n",
       "      <td>8.760000</td>\n",
       "      <td>10.560000</td>\n",
       "      <td>20.400000</td>\n",
       "      <td>15.840000</td>\n",
       "      <td>12.320000</td>\n",
       "    </tr>\n",
       "    <tr>\n",
       "      <th>Andres Iniesta</th>\n",
       "      <td>27.980000</td>\n",
       "      <td>170.18</td>\n",
       "      <td>150.0</td>\n",
       "      <td>88.320000</td>\n",
       "      <td>90.560000</td>\n",
       "      <td>83.720000</td>\n",
       "      <td>72.680000</td>\n",
       "      <td>55.320000</td>\n",
       "      <td>93.880000</td>\n",
       "      <td>74.000000</td>\n",
       "      <td>...</td>\n",
       "      <td>92.920000</td>\n",
       "      <td>71.120000</td>\n",
       "      <td>58.240000</td>\n",
       "      <td>59.680000</td>\n",
       "      <td>56.000000</td>\n",
       "      <td>6.760000</td>\n",
       "      <td>14.720000</td>\n",
       "      <td>26.040000</td>\n",
       "      <td>14.520000</td>\n",
       "      <td>10.000000</td>\n",
       "    </tr>\n",
       "    <tr>\n",
       "      <th>Mario Goetze</th>\n",
       "      <td>21.297059</td>\n",
       "      <td>175.26</td>\n",
       "      <td>159.0</td>\n",
       "      <td>83.176471</td>\n",
       "      <td>90.147059</td>\n",
       "      <td>72.529412</td>\n",
       "      <td>75.794118</td>\n",
       "      <td>53.470588</td>\n",
       "      <td>84.970588</td>\n",
       "      <td>78.617647</td>\n",
       "      <td>...</td>\n",
       "      <td>84.294118</td>\n",
       "      <td>66.705882</td>\n",
       "      <td>20.617647</td>\n",
       "      <td>30.558824</td>\n",
       "      <td>28.000000</td>\n",
       "      <td>13.294118</td>\n",
       "      <td>7.882353</td>\n",
       "      <td>14.647059</td>\n",
       "      <td>6.941176</td>\n",
       "      <td>10.705882</td>\n",
       "    </tr>\n",
       "    <tr>\n",
       "      <th>Zlatan Ibrahimovic</th>\n",
       "      <td>30.066667</td>\n",
       "      <td>195.58</td>\n",
       "      <td>209.0</td>\n",
       "      <td>88.285714</td>\n",
       "      <td>90.047619</td>\n",
       "      <td>72.380952</td>\n",
       "      <td>90.000000</td>\n",
       "      <td>79.714286</td>\n",
       "      <td>84.238095</td>\n",
       "      <td>90.047619</td>\n",
       "      <td>...</td>\n",
       "      <td>82.619048</td>\n",
       "      <td>88.000000</td>\n",
       "      <td>20.904762</td>\n",
       "      <td>43.809524</td>\n",
       "      <td>26.809524</td>\n",
       "      <td>12.666667</td>\n",
       "      <td>17.142857</td>\n",
       "      <td>24.714286</td>\n",
       "      <td>13.238095</td>\n",
       "      <td>15.142857</td>\n",
       "    </tr>\n",
       "    <tr>\n",
       "      <th>James Rodriguez</th>\n",
       "      <td>21.972727</td>\n",
       "      <td>180.34</td>\n",
       "      <td>165.0</td>\n",
       "      <td>83.000000</td>\n",
       "      <td>89.954545</td>\n",
       "      <td>81.272727</td>\n",
       "      <td>78.045455</td>\n",
       "      <td>67.136364</td>\n",
       "      <td>81.636364</td>\n",
       "      <td>77.409091</td>\n",
       "      <td>...</td>\n",
       "      <td>85.363636</td>\n",
       "      <td>80.590909</td>\n",
       "      <td>30.227273</td>\n",
       "      <td>39.318182</td>\n",
       "      <td>33.636364</td>\n",
       "      <td>15.000000</td>\n",
       "      <td>15.000000</td>\n",
       "      <td>15.000000</td>\n",
       "      <td>5.000000</td>\n",
       "      <td>14.000000</td>\n",
       "    </tr>\n",
       "    <tr>\n",
       "      <th>Franck Ribery</th>\n",
       "      <td>29.262500</td>\n",
       "      <td>170.18</td>\n",
       "      <td>159.0</td>\n",
       "      <td>88.458333</td>\n",
       "      <td>89.916667</td>\n",
       "      <td>85.166667</td>\n",
       "      <td>77.750000</td>\n",
       "      <td>48.541667</td>\n",
       "      <td>87.791667</td>\n",
       "      <td>82.041667</td>\n",
       "      <td>...</td>\n",
       "      <td>86.958333</td>\n",
       "      <td>81.500000</td>\n",
       "      <td>18.708333</td>\n",
       "      <td>25.083333</td>\n",
       "      <td>26.000000</td>\n",
       "      <td>13.333333</td>\n",
       "      <td>8.541667</td>\n",
       "      <td>22.833333</td>\n",
       "      <td>9.500000</td>\n",
       "      <td>11.708333</td>\n",
       "    </tr>\n",
       "    <tr>\n",
       "      <th>Manuel Neuer</th>\n",
       "      <td>26.679310</td>\n",
       "      <td>193.04</td>\n",
       "      <td>203.0</td>\n",
       "      <td>85.862069</td>\n",
       "      <td>89.655172</td>\n",
       "      <td>18.689655</td>\n",
       "      <td>17.931034</td>\n",
       "      <td>21.241379</td>\n",
       "      <td>38.965517</td>\n",
       "      <td>14.137931</td>\n",
       "      <td>...</td>\n",
       "      <td>37.206897</td>\n",
       "      <td>44.448276</td>\n",
       "      <td>18.448276</td>\n",
       "      <td>19.275862</td>\n",
       "      <td>15.689655</td>\n",
       "      <td>86.482759</td>\n",
       "      <td>81.620690</td>\n",
       "      <td>86.413793</td>\n",
       "      <td>82.586207</td>\n",
       "      <td>86.310345</td>\n",
       "    </tr>\n",
       "    <tr>\n",
       "      <th>Sergio Ramos</th>\n",
       "      <td>25.715789</td>\n",
       "      <td>182.88</td>\n",
       "      <td>165.0</td>\n",
       "      <td>85.789474</td>\n",
       "      <td>89.421053</td>\n",
       "      <td>73.368421</td>\n",
       "      <td>54.631579</td>\n",
       "      <td>87.368421</td>\n",
       "      <td>77.105263</td>\n",
       "      <td>56.736842</td>\n",
       "      <td>...</td>\n",
       "      <td>66.368421</td>\n",
       "      <td>65.157895</td>\n",
       "      <td>84.789474</td>\n",
       "      <td>87.684211</td>\n",
       "      <td>89.000000</td>\n",
       "      <td>10.368421</td>\n",
       "      <td>11.368421</td>\n",
       "      <td>27.000000</td>\n",
       "      <td>10.526316</td>\n",
       "      <td>13.473684</td>\n",
       "    </tr>\n",
       "  </tbody>\n",
       "</table>\n",
       "<p>10 rows × 38 columns</p>\n",
       "</div>"
      ],
      "text/plain": [
       "                          age  height  weight  overall_rating  potential  \\\n",
       "player                                                                     \n",
       "Lionel Messi        25.215385  170.18   159.0       92.192308  95.230769   \n",
       "Cristiano Ronaldo   27.404000  185.42   176.0       91.280000  93.480000   \n",
       "Neymar              21.176000  175.26   150.0       83.800000  90.760000   \n",
       "Andres Iniesta      27.980000  170.18   150.0       88.320000  90.560000   \n",
       "Mario Goetze        21.297059  175.26   159.0       83.176471  90.147059   \n",
       "Zlatan Ibrahimovic  30.066667  195.58   209.0       88.285714  90.047619   \n",
       "James Rodriguez     21.972727  180.34   165.0       83.000000  89.954545   \n",
       "Franck Ribery       29.262500  170.18   159.0       88.458333  89.916667   \n",
       "Manuel Neuer        26.679310  193.04   203.0       85.862069  89.655172   \n",
       "Sergio Ramos        25.715789  182.88   165.0       85.789474  89.421053   \n",
       "\n",
       "                     crossing  finishing  heading_accuracy  short_passing  \\\n",
       "player                                                                      \n",
       "Lionel Messi        83.346154  92.230769         69.269231      88.807692   \n",
       "Cristiano Ronaldo   83.880000  91.120000         85.520000      82.280000   \n",
       "Neymar              70.320000  83.480000         63.320000      75.680000   \n",
       "Andres Iniesta      83.720000  72.680000         55.320000      93.880000   \n",
       "Mario Goetze        72.529412  75.794118         53.470588      84.970588   \n",
       "Zlatan Ibrahimovic  72.380952  90.000000         79.714286      84.238095   \n",
       "James Rodriguez     81.272727  78.045455         67.136364      81.636364   \n",
       "Franck Ribery       85.166667  77.750000         48.541667      87.791667   \n",
       "Manuel Neuer        18.689655  17.931034         21.241379      38.965517   \n",
       "Sergio Ramos        73.368421  54.631579         87.368421      77.105263   \n",
       "\n",
       "                      volleys  ...     vision  penalties    marking  \\\n",
       "player                         ...                                    \n",
       "Lionel Messi        87.538462  ...  90.269231  80.153846  18.769231   \n",
       "Cristiano Ronaldo   85.560000  ...  80.680000  83.600000  22.120000   \n",
       "Neymar              81.240000  ...  76.840000  79.760000  21.000000   \n",
       "Andres Iniesta      74.000000  ...  92.920000  71.120000  58.240000   \n",
       "Mario Goetze        78.617647  ...  84.294118  66.705882  20.617647   \n",
       "Zlatan Ibrahimovic  90.047619  ...  82.619048  88.000000  20.904762   \n",
       "James Rodriguez     77.409091  ...  85.363636  80.590909  30.227273   \n",
       "Franck Ribery       82.041667  ...  86.958333  81.500000  18.708333   \n",
       "Manuel Neuer        14.137931  ...  37.206897  44.448276  18.448276   \n",
       "Sergio Ramos        56.736842  ...  66.368421  65.157895  84.789474   \n",
       "\n",
       "                    standing_tackle  sliding_tackle  gk_diving  gk_handling  \\\n",
       "player                                                                        \n",
       "Lionel Messi              21.846154       20.115385   6.461538    12.653846   \n",
       "Cristiano Ronaldo         30.840000       23.000000   7.480000    12.960000   \n",
       "Neymar                    26.960000       33.000000   8.760000    10.560000   \n",
       "Andres Iniesta            59.680000       56.000000   6.760000    14.720000   \n",
       "Mario Goetze              30.558824       28.000000  13.294118     7.882353   \n",
       "Zlatan Ibrahimovic        43.809524       26.809524  12.666667    17.142857   \n",
       "James Rodriguez           39.318182       33.636364  15.000000    15.000000   \n",
       "Franck Ribery             25.083333       26.000000  13.333333     8.541667   \n",
       "Manuel Neuer              19.275862       15.689655  86.482759    81.620690   \n",
       "Sergio Ramos              87.684211       89.000000  10.368421    11.368421   \n",
       "\n",
       "                    gk_kicking  gk_positioning  gk_reflexes  \n",
       "player                                                       \n",
       "Lionel Messi         29.461538       15.076923    10.615385  \n",
       "Cristiano Ronaldo    28.440000       15.160000    12.760000  \n",
       "Neymar               20.400000       15.840000    12.320000  \n",
       "Andres Iniesta       26.040000       14.520000    10.000000  \n",
       "Mario Goetze         14.647059        6.941176    10.705882  \n",
       "Zlatan Ibrahimovic   24.714286       13.238095    15.142857  \n",
       "James Rodriguez      15.000000        5.000000    14.000000  \n",
       "Franck Ribery        22.833333        9.500000    11.708333  \n",
       "Manuel Neuer         86.413793       82.586207    86.310345  \n",
       "Sergio Ramos         27.000000       10.526316    13.473684  \n",
       "\n",
       "[10 rows x 38 columns]"
      ]
     },
     "execution_count": 51,
     "metadata": {},
     "output_type": "execute_result"
    }
   ],
   "source": [
    "players_df.groupby('player').mean().sort_values('potential', ascending=False)[:10]"
   ]
  },
  {
   "cell_type": "code",
   "execution_count": 52,
   "metadata": {},
   "outputs": [
    {
     "data": {
      "image/png": "[encoded data removed]",
      "text/plain": [
       "<Figure size 1440x936 with 1 Axes>"
      ]
     },
     "metadata": {
      "needs_background": "light"
     },
     "output_type": "display_data"
    },
    {
     "data": {
      "text/plain": [
       "player\n",
       "Lionel Messi          95.230769\n",
       "Cristiano Ronaldo     93.480000\n",
       "Neymar                90.760000\n",
       "Andres Iniesta        90.560000\n",
       "Mario Goetze          90.147059\n",
       "Zlatan Ibrahimovic    90.047619\n",
       "James Rodriguez       89.954545\n",
       "Franck Ribery         89.916667\n",
       "Manuel Neuer          89.655172\n",
       "Sergio Ramos          89.421053\n",
       "Name: potential, dtype: float64"
      ]
     },
     "execution_count": 52,
     "metadata": {},
     "output_type": "execute_result"
    }
   ],
   "source": [
    "top_potential = (players_df.groupby('player')['potential']\n",
    "                            .mean()\n",
    "                            .sort_values(ascending=False)[:10])\n",
    "plotting_bar(top_potential,\n",
    "             \"Top Potential Players\",\n",
    "             'Player', 'Potenial Percent',\n",
    "             'autumn', horizontal= True)\n",
    "top_potential"
   ]
  },
  {
   "cell_type": "code",
   "execution_count": 53,
   "metadata": {},
   "outputs": [
    {
     "data": {
      "image/png": "[encoded data removed]",
      "text/plain": [
       "<Figure size 1440x936 with 1 Axes>"
      ]
     },
     "metadata": {
      "needs_background": "light"
     },
     "output_type": "display_data"
    },
    {
     "data": {
      "text/plain": [
       "player\n",
       "Lionel Messi          92.192308\n",
       "Cristiano Ronaldo     91.280000\n",
       "Franck Ribery         88.458333\n",
       "Andres Iniesta        88.320000\n",
       "Zlatan Ibrahimovic    88.285714\n",
       "Arjen Robben          87.840000\n",
       "Xavi Hernandez        87.636364\n",
       "Wayne Rooney          87.222222\n",
       "Iker Casillas         86.954545\n",
       "Philipp Lahm          86.733333\n",
       "Name: overall_rating, dtype: float64"
      ]
     },
     "execution_count": 53,
     "metadata": {},
     "output_type": "execute_result"
    }
   ],
   "source": [
    "top_rating = (players_df.groupby('player')['overall_rating']\n",
    "                        .mean()\n",
    "                        .sort_values(ascending=False)[:10])\n",
    "plotting_bar(top_rating,\n",
    "             \"Top Overall Ratings Players\", 'Player',\n",
    "             'Rating Percent', 'autumn', horizontal=True)\n",
    "top_rating"
   ]
  },
  {
   "cell_type": "markdown",
   "metadata": {},
   "source": [
    "* It looks like \"Lionel Messi\" & \"Cristiano Ronaldo\" are sitting on top of both lists\n",
    "* But there are so many attributes to check, so let's compare the average attributes of the top 5 rating players & the top 5 potential players to the average attributes of other players"
   ]
  },
  {
   "cell_type": "code",
   "execution_count": 54,
   "metadata": {
    "scrolled": false
   },
   "outputs": [
    {
     "data": {
      "text/plain": [
       "age                    25.656064\n",
       "height                181.877895\n",
       "weight                168.774593\n",
       "overall_rating         68.635317\n",
       "potential              73.479457\n",
       "crossing               55.142071\n",
       "finishing              49.962136\n",
       "heading_accuracy       57.263476\n",
       "short_passing          62.486726\n",
       "volleys                49.488927\n",
       "dribbling              59.265755\n",
       "curve                  53.001408\n",
       "free_kick_accuracy     49.392783\n",
       "long_passing           57.084578\n",
       "ball_control           63.453846\n",
       "acceleration           67.709405\n",
       "sprint_speed           68.101628\n",
       "agility                65.995082\n",
       "reactions              66.148297\n",
       "balance                65.190082\n",
       "shot_power             61.866474\n",
       "jumping                66.977333\n",
       "stamina                67.053401\n",
       "strength               67.432477\n",
       "long_shots             53.387560\n",
       "aggression             60.946217\n",
       "interceptions          51.897374\n",
       "positioning            55.730730\n",
       "vision                 57.868176\n",
       "penalties              54.933448\n",
       "marking                46.757433\n",
       "standing_tackle        50.354065\n",
       "sliding_tackle         48.029342\n",
       "gk_diving              14.696685\n",
       "gk_handling            15.947786\n",
       "gk_kicking             20.526304\n",
       "gk_positioning         16.015043\n",
       "gk_reflexes            16.325310\n",
       "dtype: float64"
      ]
     },
     "execution_count": 54,
     "metadata": {},
     "output_type": "execute_result"
    }
   ],
   "source": [
    "average_pl = players_df.mean(numeric_only=True)\n",
    "average_pl"
   ]
  },
  {
   "cell_type": "code",
   "execution_count": 55,
   "metadata": {},
   "outputs": [],
   "source": [
    "av_best5_potential = (players_df.groupby('player')\n",
    "                                .mean()\n",
    "                                .sort_values('potential', ascending=False)[:5]\n",
    "                                .mean())\n",
    "av_best5_rating = (players_df.groupby('player')\n",
    "                             .mean()\n",
    "                             .sort_values('overall_rating', ascending=False)[:5]\n",
    "                             .mean())"
   ]
  },
  {
   "cell_type": "code",
   "execution_count": 56,
   "metadata": {
    "scrolled": false
   },
   "outputs": [
    {
     "data": {
      "image/png": "[encoded data removed]",
      "text/plain": [
       "<Figure size 1440x2160 with 1 Axes>"
      ]
     },
     "metadata": {
      "needs_background": "light"
     },
     "output_type": "display_data"
    }
   ],
   "source": [
    "fig0 = plt.figure(figsize = (20, 30)) \n",
    "ax0 = fig0.add_subplot()\n",
    "ind0 = np.arange(len(average_pl))\n",
    "\n",
    "plt.barh(ind0+0.25, av_best5_potential, color ='red', height = 0.25, label='Top 5 Potenial Players')\n",
    "plt.barh(ind0, av_best5_rating, color ='blue', height = 0.25, label='Top 5 Overall Rating Players')\n",
    "plt.barh(ind0-0.25, average_pl, color ='orange', height = 0.25, label='Average Attributes')\n",
    "\n",
    "ax0.set_yticks(ind0)\n",
    "ax0.set_yticklabels(average_pl.index.tolist())\n",
    "plt.yticks(fontsize=15)\n",
    "plt.ylabel(\"Player Attributes\", fontsize=18)\n",
    "plt.xlim(0,100)\n",
    "plt.xlabel(\"Percent\", fontsize=18)\n",
    "plt.title(\"Comparing Player Attributes of The Top Rated Players to Attributes of Other Players\", fontsize=23)\n",
    "plt.legend()\n",
    "plt.show();"
   ]
  },
  {
   "cell_type": "markdown",
   "metadata": {},
   "source": [
    "* It looks like that top rated players are higher than other players in almost all attributes except the gool keeping ones.\n",
    "* But the most unique attributes are **Dribbling**, **Ball Control**, **Agility**, **Reactions** & **Short Passing**."
   ]
  },
  {
   "cell_type": "markdown",
   "metadata": {},
   "source": [
    "### Research Question 2: What teams attributes lead to most goals scoring & most defeated teams?\n",
    "\n",
    "#### 1) First, we will modify 'match_df' dataframe to obtain points, goals, victories and losses for each team\n",
    "#### 2) Then, we will find the teams matching our criteria\n",
    "#### 3) Finally, we will find the attributes of those teams from 'teams_df' dataframe"
   ]
  },
  {
   "cell_type": "code",
   "execution_count": 57,
   "metadata": {},
   "outputs": [
    {
     "data": {
      "text/html": [
       "<div>\n",
       "<style scoped>\n",
       "    .dataframe tbody tr th:only-of-type {\n",
       "        vertical-align: middle;\n",
       "    }\n",
       "\n",
       "    .dataframe tbody tr th {\n",
       "        vertical-align: top;\n",
       "    }\n",
       "\n",
       "    .dataframe thead th {\n",
       "        text-align: right;\n",
       "    }\n",
       "</style>\n",
       "<table border=\"1\" class=\"dataframe\">\n",
       "  <thead>\n",
       "    <tr style=\"text-align: right;\">\n",
       "      <th></th>\n",
       "      <th>league</th>\n",
       "      <th>season</th>\n",
       "      <th>home_team</th>\n",
       "      <th>away_team</th>\n",
       "      <th>home_goal</th>\n",
       "      <th>away_goal</th>\n",
       "      <th>home_point</th>\n",
       "      <th>away_point</th>\n",
       "      <th>home_win</th>\n",
       "      <th>away_win</th>\n",
       "      <th>home_draw</th>\n",
       "      <th>away_draw</th>\n",
       "      <th>home_loss</th>\n",
       "      <th>away_loss</th>\n",
       "    </tr>\n",
       "  </thead>\n",
       "  <tbody>\n",
       "    <tr>\n",
       "      <th>0</th>\n",
       "      <td>Belgium Jupiler League</td>\n",
       "      <td>2008/2009</td>\n",
       "      <td>KRC Genk</td>\n",
       "      <td>Beerschot AC</td>\n",
       "      <td>1</td>\n",
       "      <td>1</td>\n",
       "      <td>1</td>\n",
       "      <td>1</td>\n",
       "      <td>0</td>\n",
       "      <td>0</td>\n",
       "      <td>1</td>\n",
       "      <td>1</td>\n",
       "      <td>0</td>\n",
       "      <td>0</td>\n",
       "    </tr>\n",
       "    <tr>\n",
       "      <th>1</th>\n",
       "      <td>Belgium Jupiler League</td>\n",
       "      <td>2008/2009</td>\n",
       "      <td>SV Zulte-Waregem</td>\n",
       "      <td>Sporting Lokeren</td>\n",
       "      <td>0</td>\n",
       "      <td>0</td>\n",
       "      <td>1</td>\n",
       "      <td>1</td>\n",
       "      <td>0</td>\n",
       "      <td>0</td>\n",
       "      <td>1</td>\n",
       "      <td>1</td>\n",
       "      <td>0</td>\n",
       "      <td>0</td>\n",
       "    </tr>\n",
       "  </tbody>\n",
       "</table>\n",
       "</div>"
      ],
      "text/plain": [
       "                   league     season         home_team         away_team  \\\n",
       "0  Belgium Jupiler League  2008/2009          KRC Genk      Beerschot AC   \n",
       "1  Belgium Jupiler League  2008/2009  SV Zulte-Waregem  Sporting Lokeren   \n",
       "\n",
       "   home_goal  away_goal  home_point  away_point  home_win  away_win  \\\n",
       "0          1          1           1           1         0         0   \n",
       "1          0          0           1           1         0         0   \n",
       "\n",
       "   home_draw  away_draw  home_loss  away_loss  \n",
       "0          1          1          0          0  \n",
       "1          1          1          0          0  "
      ]
     },
     "execution_count": 57,
     "metadata": {},
     "output_type": "execute_result"
    }
   ],
   "source": [
    "points_df = match_df.loc[:, ['league', 'season', 'home_team', 'away_team',\n",
    "                                    'home_goal', 'away_goal']]\n",
    "    # Creating Masks\n",
    "home_team_wins = points_df.home_goal > points_df.away_goal\n",
    "away_team_wins = points_df.away_goal > points_df.home_goal\n",
    "draw = points_df.home_goal == points_df.away_goal\n",
    "    # Set Points Conditions & Choices\n",
    "home_points_conditions = [home_team_wins, draw]\n",
    "away_points_conditions = [away_team_wins, draw]\n",
    "points_choices = [3, 1]\n",
    "\n",
    "points_df['home_point'] = np.select(home_points_conditions, points_choices, 0)\n",
    "points_df['away_point'] = np.select(away_points_conditions, points_choices, 0)\n",
    "points_df['home_win'] = np.select([home_team_wins], [1], 0)\n",
    "points_df['away_win'] = np.select([away_team_wins], [1], 0)\n",
    "points_df['home_draw'] = np.select([draw], [1], 0)\n",
    "points_df['away_draw'] = np.select([draw], [1], 0)\n",
    "points_df['home_loss'] = np.select([away_team_wins], [1], 0)\n",
    "points_df['away_loss'] = np.select([home_team_wins], [1], 0)\n",
    "\n",
    "points_df.head(2)"
   ]
  },
  {
   "cell_type": "code",
   "execution_count": 58,
   "metadata": {},
   "outputs": [],
   "source": [
    "home_points = points_df.loc[:, ['league', 'season', 'home_team', 'home_point', 'home_win',\n",
    "                                'home_draw', 'home_loss', 'home_goal', 'away_goal']]\n",
    "home_points.rename(columns={'home_team': 'team', 'home_goal':'h_goals', 'away_goal':'h_goal_conceded'}, inplace=True)\n",
    "\n",
    "home_table = home_points.groupby(['team', 'league', 'season']).sum()\n",
    "\n",
    "away_points = points_df.loc[:, ['league', 'season', 'away_team', 'away_point', 'away_win',\n",
    "                                'away_draw', 'away_loss', 'away_goal', 'home_goal']]\n",
    "away_points.rename(columns={'away_team': 'team', 'away_goal':'a_goals', 'home_goal':'a_goal_conceded'}, inplace=True)\n",
    "\n",
    "away_table = away_points.groupby(['team', 'league', 'season']).sum()"
   ]
  },
  {
   "cell_type": "code",
   "execution_count": 59,
   "metadata": {},
   "outputs": [
    {
     "data": {
      "text/html": [
       "<div>\n",
       "<style scoped>\n",
       "    .dataframe tbody tr th:only-of-type {\n",
       "        vertical-align: middle;\n",
       "    }\n",
       "\n",
       "    .dataframe tbody tr th {\n",
       "        vertical-align: top;\n",
       "    }\n",
       "\n",
       "    .dataframe thead th {\n",
       "        text-align: right;\n",
       "    }\n",
       "</style>\n",
       "<table border=\"1\" class=\"dataframe\">\n",
       "  <thead>\n",
       "    <tr style=\"text-align: right;\">\n",
       "      <th></th>\n",
       "      <th></th>\n",
       "      <th></th>\n",
       "      <th>home_point</th>\n",
       "      <th>home_win</th>\n",
       "      <th>home_draw</th>\n",
       "      <th>home_loss</th>\n",
       "      <th>h_goals</th>\n",
       "      <th>h_goal_conceded</th>\n",
       "    </tr>\n",
       "    <tr>\n",
       "      <th>team</th>\n",
       "      <th>league</th>\n",
       "      <th>season</th>\n",
       "      <th></th>\n",
       "      <th></th>\n",
       "      <th></th>\n",
       "      <th></th>\n",
       "      <th></th>\n",
       "      <th></th>\n",
       "    </tr>\n",
       "  </thead>\n",
       "  <tbody>\n",
       "    <tr>\n",
       "      <th rowspan=\"2\" valign=\"top\">1. FC Kaiserslautern</th>\n",
       "      <th rowspan=\"2\" valign=\"top\">Germany 1. Bundesliga</th>\n",
       "      <th>2010/2011</th>\n",
       "      <td>24</td>\n",
       "      <td>6</td>\n",
       "      <td>6</td>\n",
       "      <td>5</td>\n",
       "      <td>25</td>\n",
       "      <td>19</td>\n",
       "    </tr>\n",
       "    <tr>\n",
       "      <th>2011/2012</th>\n",
       "      <td>11</td>\n",
       "      <td>2</td>\n",
       "      <td>5</td>\n",
       "      <td>10</td>\n",
       "      <td>12</td>\n",
       "      <td>28</td>\n",
       "    </tr>\n",
       "    <tr>\n",
       "      <th rowspan=\"3\" valign=\"top\">1. FC Köln</th>\n",
       "      <th rowspan=\"3\" valign=\"top\">Germany 1. Bundesliga</th>\n",
       "      <th>2008/2009</th>\n",
       "      <td>17</td>\n",
       "      <td>4</td>\n",
       "      <td>5</td>\n",
       "      <td>8</td>\n",
       "      <td>14</td>\n",
       "      <td>25</td>\n",
       "    </tr>\n",
       "    <tr>\n",
       "      <th>2009/2010</th>\n",
       "      <td>15</td>\n",
       "      <td>3</td>\n",
       "      <td>6</td>\n",
       "      <td>8</td>\n",
       "      <td>18</td>\n",
       "      <td>29</td>\n",
       "    </tr>\n",
       "    <tr>\n",
       "      <th>2010/2011</th>\n",
       "      <td>35</td>\n",
       "      <td>11</td>\n",
       "      <td>2</td>\n",
       "      <td>4</td>\n",
       "      <td>30</td>\n",
       "      <td>21</td>\n",
       "    </tr>\n",
       "    <tr>\n",
       "      <th>...</th>\n",
       "      <th>...</th>\n",
       "      <th>...</th>\n",
       "      <td>...</td>\n",
       "      <td>...</td>\n",
       "      <td>...</td>\n",
       "      <td>...</td>\n",
       "      <td>...</td>\n",
       "      <td>...</td>\n",
       "    </tr>\n",
       "    <tr>\n",
       "      <th rowspan=\"5\" valign=\"top\">Śląsk Wrocław</th>\n",
       "      <th rowspan=\"5\" valign=\"top\">Poland Ekstraklasa</th>\n",
       "      <th>2011/2012</th>\n",
       "      <td>29</td>\n",
       "      <td>9</td>\n",
       "      <td>2</td>\n",
       "      <td>4</td>\n",
       "      <td>26</td>\n",
       "      <td>14</td>\n",
       "    </tr>\n",
       "    <tr>\n",
       "      <th>2012/2013</th>\n",
       "      <td>31</td>\n",
       "      <td>9</td>\n",
       "      <td>4</td>\n",
       "      <td>2</td>\n",
       "      <td>23</td>\n",
       "      <td>15</td>\n",
       "    </tr>\n",
       "    <tr>\n",
       "      <th>2013/2014</th>\n",
       "      <td>21</td>\n",
       "      <td>5</td>\n",
       "      <td>6</td>\n",
       "      <td>4</td>\n",
       "      <td>21</td>\n",
       "      <td>16</td>\n",
       "    </tr>\n",
       "    <tr>\n",
       "      <th>2014/2015</th>\n",
       "      <td>31</td>\n",
       "      <td>9</td>\n",
       "      <td>4</td>\n",
       "      <td>2</td>\n",
       "      <td>21</td>\n",
       "      <td>9</td>\n",
       "    </tr>\n",
       "    <tr>\n",
       "      <th>2015/2016</th>\n",
       "      <td>21</td>\n",
       "      <td>5</td>\n",
       "      <td>6</td>\n",
       "      <td>4</td>\n",
       "      <td>14</td>\n",
       "      <td>14</td>\n",
       "    </tr>\n",
       "  </tbody>\n",
       "</table>\n",
       "<p>1478 rows × 6 columns</p>\n",
       "</div>"
      ],
      "text/plain": [
       "                                                      home_point  home_win  \\\n",
       "team                 league                season                            \n",
       "1. FC Kaiserslautern Germany 1. Bundesliga 2010/2011          24         6   \n",
       "                                           2011/2012          11         2   \n",
       "1. FC Köln           Germany 1. Bundesliga 2008/2009          17         4   \n",
       "                                           2009/2010          15         3   \n",
       "                                           2010/2011          35        11   \n",
       "...                                                          ...       ...   \n",
       "Śląsk Wrocław        Poland Ekstraklasa    2011/2012          29         9   \n",
       "                                           2012/2013          31         9   \n",
       "                                           2013/2014          21         5   \n",
       "                                           2014/2015          31         9   \n",
       "                                           2015/2016          21         5   \n",
       "\n",
       "                                                      home_draw  home_loss  \\\n",
       "team                 league                season                            \n",
       "1. FC Kaiserslautern Germany 1. Bundesliga 2010/2011          6          5   \n",
       "                                           2011/2012          5         10   \n",
       "1. FC Köln           Germany 1. Bundesliga 2008/2009          5          8   \n",
       "                                           2009/2010          6          8   \n",
       "                                           2010/2011          2          4   \n",
       "...                                                         ...        ...   \n",
       "Śląsk Wrocław        Poland Ekstraklasa    2011/2012          2          4   \n",
       "                                           2012/2013          4          2   \n",
       "                                           2013/2014          6          4   \n",
       "                                           2014/2015          4          2   \n",
       "                                           2015/2016          6          4   \n",
       "\n",
       "                                                      h_goals  h_goal_conceded  \n",
       "team                 league                season                               \n",
       "1. FC Kaiserslautern Germany 1. Bundesliga 2010/2011       25               19  \n",
       "                                           2011/2012       12               28  \n",
       "1. FC Köln           Germany 1. Bundesliga 2008/2009       14               25  \n",
       "                                           2009/2010       18               29  \n",
       "                                           2010/2011       30               21  \n",
       "...                                                       ...              ...  \n",
       "Śląsk Wrocław        Poland Ekstraklasa    2011/2012       26               14  \n",
       "                                           2012/2013       23               15  \n",
       "                                           2013/2014       21               16  \n",
       "                                           2014/2015       21                9  \n",
       "                                           2015/2016       14               14  \n",
       "\n",
       "[1478 rows x 6 columns]"
      ]
     },
     "execution_count": 59,
     "metadata": {},
     "output_type": "execute_result"
    }
   ],
   "source": [
    "home_table"
   ]
  },
  {
   "cell_type": "code",
   "execution_count": 60,
   "metadata": {},
   "outputs": [
    {
     "data": {
      "text/html": [
       "<div>\n",
       "<style scoped>\n",
       "    .dataframe tbody tr th:only-of-type {\n",
       "        vertical-align: middle;\n",
       "    }\n",
       "\n",
       "    .dataframe tbody tr th {\n",
       "        vertical-align: top;\n",
       "    }\n",
       "\n",
       "    .dataframe thead th {\n",
       "        text-align: right;\n",
       "    }\n",
       "</style>\n",
       "<table border=\"1\" class=\"dataframe\">\n",
       "  <thead>\n",
       "    <tr style=\"text-align: right;\">\n",
       "      <th></th>\n",
       "      <th></th>\n",
       "      <th></th>\n",
       "      <th>away_point</th>\n",
       "      <th>away_win</th>\n",
       "      <th>away_draw</th>\n",
       "      <th>away_loss</th>\n",
       "      <th>a_goals</th>\n",
       "      <th>a_goal_conceded</th>\n",
       "    </tr>\n",
       "    <tr>\n",
       "      <th>team</th>\n",
       "      <th>league</th>\n",
       "      <th>season</th>\n",
       "      <th></th>\n",
       "      <th></th>\n",
       "      <th></th>\n",
       "      <th></th>\n",
       "      <th></th>\n",
       "      <th></th>\n",
       "    </tr>\n",
       "  </thead>\n",
       "  <tbody>\n",
       "    <tr>\n",
       "      <th rowspan=\"2\" valign=\"top\">1. FC Kaiserslautern</th>\n",
       "      <th rowspan=\"2\" valign=\"top\">Germany 1. Bundesliga</th>\n",
       "      <th>2010/2011</th>\n",
       "      <td>22</td>\n",
       "      <td>7</td>\n",
       "      <td>1</td>\n",
       "      <td>9</td>\n",
       "      <td>23</td>\n",
       "      <td>32</td>\n",
       "    </tr>\n",
       "    <tr>\n",
       "      <th>2011/2012</th>\n",
       "      <td>12</td>\n",
       "      <td>2</td>\n",
       "      <td>6</td>\n",
       "      <td>9</td>\n",
       "      <td>12</td>\n",
       "      <td>26</td>\n",
       "    </tr>\n",
       "    <tr>\n",
       "      <th rowspan=\"3\" valign=\"top\">1. FC Köln</th>\n",
       "      <th rowspan=\"3\" valign=\"top\">Germany 1. Bundesliga</th>\n",
       "      <th>2008/2009</th>\n",
       "      <td>22</td>\n",
       "      <td>7</td>\n",
       "      <td>1</td>\n",
       "      <td>9</td>\n",
       "      <td>21</td>\n",
       "      <td>25</td>\n",
       "    </tr>\n",
       "    <tr>\n",
       "      <th>2009/2010</th>\n",
       "      <td>23</td>\n",
       "      <td>6</td>\n",
       "      <td>5</td>\n",
       "      <td>6</td>\n",
       "      <td>15</td>\n",
       "      <td>13</td>\n",
       "    </tr>\n",
       "    <tr>\n",
       "      <th>2010/2011</th>\n",
       "      <td>9</td>\n",
       "      <td>2</td>\n",
       "      <td>3</td>\n",
       "      <td>12</td>\n",
       "      <td>17</td>\n",
       "      <td>41</td>\n",
       "    </tr>\n",
       "    <tr>\n",
       "      <th>...</th>\n",
       "      <th>...</th>\n",
       "      <th>...</th>\n",
       "      <td>...</td>\n",
       "      <td>...</td>\n",
       "      <td>...</td>\n",
       "      <td>...</td>\n",
       "      <td>...</td>\n",
       "      <td>...</td>\n",
       "    </tr>\n",
       "    <tr>\n",
       "      <th rowspan=\"5\" valign=\"top\">Śląsk Wrocław</th>\n",
       "      <th rowspan=\"5\" valign=\"top\">Poland Ekstraklasa</th>\n",
       "      <th>2011/2012</th>\n",
       "      <td>27</td>\n",
       "      <td>8</td>\n",
       "      <td>3</td>\n",
       "      <td>4</td>\n",
       "      <td>21</td>\n",
       "      <td>17</td>\n",
       "    </tr>\n",
       "    <tr>\n",
       "      <th>2012/2013</th>\n",
       "      <td>16</td>\n",
       "      <td>4</td>\n",
       "      <td>4</td>\n",
       "      <td>7</td>\n",
       "      <td>21</td>\n",
       "      <td>27</td>\n",
       "    </tr>\n",
       "    <tr>\n",
       "      <th>2013/2014</th>\n",
       "      <td>13</td>\n",
       "      <td>2</td>\n",
       "      <td>7</td>\n",
       "      <td>6</td>\n",
       "      <td>17</td>\n",
       "      <td>24</td>\n",
       "    </tr>\n",
       "    <tr>\n",
       "      <th>2014/2015</th>\n",
       "      <td>15</td>\n",
       "      <td>3</td>\n",
       "      <td>6</td>\n",
       "      <td>6</td>\n",
       "      <td>22</td>\n",
       "      <td>27</td>\n",
       "    </tr>\n",
       "    <tr>\n",
       "      <th>2015/2016</th>\n",
       "      <td>13</td>\n",
       "      <td>3</td>\n",
       "      <td>4</td>\n",
       "      <td>8</td>\n",
       "      <td>14</td>\n",
       "      <td>23</td>\n",
       "    </tr>\n",
       "  </tbody>\n",
       "</table>\n",
       "<p>1478 rows × 6 columns</p>\n",
       "</div>"
      ],
      "text/plain": [
       "                                                      away_point  away_win  \\\n",
       "team                 league                season                            \n",
       "1. FC Kaiserslautern Germany 1. Bundesliga 2010/2011          22         7   \n",
       "                                           2011/2012          12         2   \n",
       "1. FC Köln           Germany 1. Bundesliga 2008/2009          22         7   \n",
       "                                           2009/2010          23         6   \n",
       "                                           2010/2011           9         2   \n",
       "...                                                          ...       ...   \n",
       "Śląsk Wrocław        Poland Ekstraklasa    2011/2012          27         8   \n",
       "                                           2012/2013          16         4   \n",
       "                                           2013/2014          13         2   \n",
       "                                           2014/2015          15         3   \n",
       "                                           2015/2016          13         3   \n",
       "\n",
       "                                                      away_draw  away_loss  \\\n",
       "team                 league                season                            \n",
       "1. FC Kaiserslautern Germany 1. Bundesliga 2010/2011          1          9   \n",
       "                                           2011/2012          6          9   \n",
       "1. FC Köln           Germany 1. Bundesliga 2008/2009          1          9   \n",
       "                                           2009/2010          5          6   \n",
       "                                           2010/2011          3         12   \n",
       "...                                                         ...        ...   \n",
       "Śląsk Wrocław        Poland Ekstraklasa    2011/2012          3          4   \n",
       "                                           2012/2013          4          7   \n",
       "                                           2013/2014          7          6   \n",
       "                                           2014/2015          6          6   \n",
       "                                           2015/2016          4          8   \n",
       "\n",
       "                                                      a_goals  a_goal_conceded  \n",
       "team                 league                season                               \n",
       "1. FC Kaiserslautern Germany 1. Bundesliga 2010/2011       23               32  \n",
       "                                           2011/2012       12               26  \n",
       "1. FC Köln           Germany 1. Bundesliga 2008/2009       21               25  \n",
       "                                           2009/2010       15               13  \n",
       "                                           2010/2011       17               41  \n",
       "...                                                       ...              ...  \n",
       "Śląsk Wrocław        Poland Ekstraklasa    2011/2012       21               17  \n",
       "                                           2012/2013       21               27  \n",
       "                                           2013/2014       17               24  \n",
       "                                           2014/2015       22               27  \n",
       "                                           2015/2016       14               23  \n",
       "\n",
       "[1478 rows x 6 columns]"
      ]
     },
     "execution_count": 60,
     "metadata": {},
     "output_type": "execute_result"
    }
   ],
   "source": [
    "away_table"
   ]
  },
  {
   "cell_type": "code",
   "execution_count": 61,
   "metadata": {},
   "outputs": [
    {
     "data": {
      "text/html": [
       "<div>\n",
       "<style scoped>\n",
       "    .dataframe tbody tr th:only-of-type {\n",
       "        vertical-align: middle;\n",
       "    }\n",
       "\n",
       "    .dataframe tbody tr th {\n",
       "        vertical-align: top;\n",
       "    }\n",
       "\n",
       "    .dataframe thead th {\n",
       "        text-align: right;\n",
       "    }\n",
       "</style>\n",
       "<table border=\"1\" class=\"dataframe\">\n",
       "  <thead>\n",
       "    <tr style=\"text-align: right;\">\n",
       "      <th></th>\n",
       "      <th>team</th>\n",
       "      <th>league</th>\n",
       "      <th>season</th>\n",
       "      <th>points</th>\n",
       "      <th>win</th>\n",
       "      <th>draw</th>\n",
       "      <th>loss</th>\n",
       "      <th>goals</th>\n",
       "      <th>goals_conceded</th>\n",
       "      <th>match_played</th>\n",
       "    </tr>\n",
       "  </thead>\n",
       "  <tbody>\n",
       "    <tr>\n",
       "      <th>0</th>\n",
       "      <td>1. FC Kaiserslautern</td>\n",
       "      <td>Germany 1. Bundesliga</td>\n",
       "      <td>2010/2011</td>\n",
       "      <td>46</td>\n",
       "      <td>13</td>\n",
       "      <td>7</td>\n",
       "      <td>14</td>\n",
       "      <td>48</td>\n",
       "      <td>51</td>\n",
       "      <td>34</td>\n",
       "    </tr>\n",
       "    <tr>\n",
       "      <th>1</th>\n",
       "      <td>1. FC Kaiserslautern</td>\n",
       "      <td>Germany 1. Bundesliga</td>\n",
       "      <td>2011/2012</td>\n",
       "      <td>23</td>\n",
       "      <td>4</td>\n",
       "      <td>11</td>\n",
       "      <td>19</td>\n",
       "      <td>24</td>\n",
       "      <td>54</td>\n",
       "      <td>34</td>\n",
       "    </tr>\n",
       "    <tr>\n",
       "      <th>2</th>\n",
       "      <td>1. FC Köln</td>\n",
       "      <td>Germany 1. Bundesliga</td>\n",
       "      <td>2008/2009</td>\n",
       "      <td>39</td>\n",
       "      <td>11</td>\n",
       "      <td>6</td>\n",
       "      <td>17</td>\n",
       "      <td>35</td>\n",
       "      <td>50</td>\n",
       "      <td>34</td>\n",
       "    </tr>\n",
       "    <tr>\n",
       "      <th>3</th>\n",
       "      <td>1. FC Köln</td>\n",
       "      <td>Germany 1. Bundesliga</td>\n",
       "      <td>2009/2010</td>\n",
       "      <td>38</td>\n",
       "      <td>9</td>\n",
       "      <td>11</td>\n",
       "      <td>14</td>\n",
       "      <td>33</td>\n",
       "      <td>42</td>\n",
       "      <td>34</td>\n",
       "    </tr>\n",
       "    <tr>\n",
       "      <th>4</th>\n",
       "      <td>1. FC Köln</td>\n",
       "      <td>Germany 1. Bundesliga</td>\n",
       "      <td>2010/2011</td>\n",
       "      <td>44</td>\n",
       "      <td>13</td>\n",
       "      <td>5</td>\n",
       "      <td>16</td>\n",
       "      <td>47</td>\n",
       "      <td>62</td>\n",
       "      <td>34</td>\n",
       "    </tr>\n",
       "    <tr>\n",
       "      <th>...</th>\n",
       "      <td>...</td>\n",
       "      <td>...</td>\n",
       "      <td>...</td>\n",
       "      <td>...</td>\n",
       "      <td>...</td>\n",
       "      <td>...</td>\n",
       "      <td>...</td>\n",
       "      <td>...</td>\n",
       "      <td>...</td>\n",
       "      <td>...</td>\n",
       "    </tr>\n",
       "    <tr>\n",
       "      <th>1473</th>\n",
       "      <td>Śląsk Wrocław</td>\n",
       "      <td>Poland Ekstraklasa</td>\n",
       "      <td>2011/2012</td>\n",
       "      <td>56</td>\n",
       "      <td>17</td>\n",
       "      <td>5</td>\n",
       "      <td>8</td>\n",
       "      <td>47</td>\n",
       "      <td>31</td>\n",
       "      <td>30</td>\n",
       "    </tr>\n",
       "    <tr>\n",
       "      <th>1474</th>\n",
       "      <td>Śląsk Wrocław</td>\n",
       "      <td>Poland Ekstraklasa</td>\n",
       "      <td>2012/2013</td>\n",
       "      <td>47</td>\n",
       "      <td>13</td>\n",
       "      <td>8</td>\n",
       "      <td>9</td>\n",
       "      <td>44</td>\n",
       "      <td>42</td>\n",
       "      <td>30</td>\n",
       "    </tr>\n",
       "    <tr>\n",
       "      <th>1475</th>\n",
       "      <td>Śląsk Wrocław</td>\n",
       "      <td>Poland Ekstraklasa</td>\n",
       "      <td>2013/2014</td>\n",
       "      <td>34</td>\n",
       "      <td>7</td>\n",
       "      <td>13</td>\n",
       "      <td>10</td>\n",
       "      <td>38</td>\n",
       "      <td>40</td>\n",
       "      <td>30</td>\n",
       "    </tr>\n",
       "    <tr>\n",
       "      <th>1476</th>\n",
       "      <td>Śląsk Wrocław</td>\n",
       "      <td>Poland Ekstraklasa</td>\n",
       "      <td>2014/2015</td>\n",
       "      <td>46</td>\n",
       "      <td>12</td>\n",
       "      <td>10</td>\n",
       "      <td>8</td>\n",
       "      <td>43</td>\n",
       "      <td>36</td>\n",
       "      <td>30</td>\n",
       "    </tr>\n",
       "    <tr>\n",
       "      <th>1477</th>\n",
       "      <td>Śląsk Wrocław</td>\n",
       "      <td>Poland Ekstraklasa</td>\n",
       "      <td>2015/2016</td>\n",
       "      <td>34</td>\n",
       "      <td>8</td>\n",
       "      <td>10</td>\n",
       "      <td>12</td>\n",
       "      <td>28</td>\n",
       "      <td>37</td>\n",
       "      <td>30</td>\n",
       "    </tr>\n",
       "  </tbody>\n",
       "</table>\n",
       "<p>1478 rows × 10 columns</p>\n",
       "</div>"
      ],
      "text/plain": [
       "                      team                 league     season  points  win  \\\n",
       "0     1. FC Kaiserslautern  Germany 1. Bundesliga  2010/2011      46   13   \n",
       "1     1. FC Kaiserslautern  Germany 1. Bundesliga  2011/2012      23    4   \n",
       "2               1. FC Köln  Germany 1. Bundesliga  2008/2009      39   11   \n",
       "3               1. FC Köln  Germany 1. Bundesliga  2009/2010      38    9   \n",
       "4               1. FC Köln  Germany 1. Bundesliga  2010/2011      44   13   \n",
       "...                    ...                    ...        ...     ...  ...   \n",
       "1473         Śląsk Wrocław     Poland Ekstraklasa  2011/2012      56   17   \n",
       "1474         Śląsk Wrocław     Poland Ekstraklasa  2012/2013      47   13   \n",
       "1475         Śląsk Wrocław     Poland Ekstraklasa  2013/2014      34    7   \n",
       "1476         Śląsk Wrocław     Poland Ekstraklasa  2014/2015      46   12   \n",
       "1477         Śląsk Wrocław     Poland Ekstraklasa  2015/2016      34    8   \n",
       "\n",
       "      draw  loss  goals  goals_conceded  match_played  \n",
       "0        7    14     48              51            34  \n",
       "1       11    19     24              54            34  \n",
       "2        6    17     35              50            34  \n",
       "3       11    14     33              42            34  \n",
       "4        5    16     47              62            34  \n",
       "...    ...   ...    ...             ...           ...  \n",
       "1473     5     8     47              31            30  \n",
       "1474     8     9     44              42            30  \n",
       "1475    13    10     38              40            30  \n",
       "1476    10     8     43              36            30  \n",
       "1477    10    12     28              37            30  \n",
       "\n",
       "[1478 rows x 10 columns]"
      ]
     },
     "execution_count": 61,
     "metadata": {},
     "output_type": "execute_result"
    }
   ],
   "source": [
    "points = pd.concat([home_table, away_table], axis=1)\n",
    "\n",
    "points['points'] = points.home_point + points.away_point\n",
    "points['win'] = points.home_win + points.away_win\n",
    "points['draw'] = points.home_draw + points.away_draw\n",
    "points['loss'] = points.home_loss + points.away_loss\n",
    "points['goals'] = points.h_goals + points.a_goals\n",
    "points['goals_conceded'] = points.h_goal_conceded + points.a_goal_conceded\n",
    "points['match_played'] = points.win + points.draw + points.loss\n",
    "\n",
    "points.drop(columns=['home_point', 'home_win', 'home_draw', 'home_loss', 'h_goals', 'h_goal_conceded',\n",
    "                    'away_point', 'away_win', 'away_draw', 'away_loss', 'a_goals', 'a_goal_conceded'], inplace=True)\n",
    "\n",
    "points.reset_index(inplace=True)\n",
    "points"
   ]
  },
  {
   "cell_type": "markdown",
   "metadata": {},
   "source": [
    "##### a) Finding the most goals scoring teams"
   ]
  },
  {
   "cell_type": "code",
   "execution_count": 62,
   "metadata": {
    "scrolled": false
   },
   "outputs": [
    {
     "data": {
      "image/png": "[encoded data removed]",
      "text/plain": [
       "<Figure size 1440x936 with 1 Axes>"
      ]
     },
     "metadata": {
      "needs_background": "light"
     },
     "output_type": "display_data"
    },
    {
     "data": {
      "text/plain": [
       "team\n",
       "FC Barcelona           849\n",
       "Real Madrid CF         843\n",
       "Celtic                 695\n",
       "FC Bayern Munich       653\n",
       "PSV                    652\n",
       "Ajax                   647\n",
       "FC Basel               619\n",
       "Manchester City        606\n",
       "Chelsea                583\n",
       "Manchester United      582\n",
       "Arsenal                573\n",
       "Paris Saint-Germain    568\n",
       "SL Benfica             568\n",
       "Borussia Dortmund      551\n",
       "Juventus               543\n",
       "Name: goals, dtype: int64"
      ]
     },
     "execution_count": 62,
     "metadata": {},
     "output_type": "execute_result"
    }
   ],
   "source": [
    "most_scoring = (points.groupby(['team'])['goals']\n",
    "                      .sum()\n",
    "                      .sort_values(ascending=False).iloc[:15])\n",
    "plotting_bar(most_scoring,\n",
    "             \"Top Goals scoring Teams\",\n",
    "             'Teams', 'Goals', horizontal=True)\n",
    "most_scoring"
   ]
  },
  {
   "cell_type": "code",
   "execution_count": 63,
   "metadata": {},
   "outputs": [
    {
     "data": {
      "image/png": "[encoded data removed]",
      "text/plain": [
       "<Figure size 1440x936 with 1 Axes>"
      ]
     },
     "metadata": {
      "needs_background": "light"
     },
     "output_type": "display_data"
    },
    {
     "data": {
      "text/plain": [
       "team            season   \n",
       "Real Madrid CF  2011/2012    121\n",
       "                2014/2015    118\n",
       "FC Barcelona    2012/2013    115\n",
       "                2011/2012    114\n",
       "                2015/2016    112\n",
       "Real Madrid CF  2015/2016    110\n",
       "FC Barcelona    2014/2015    110\n",
       "Ajax            2009/2010    106\n",
       "FC Barcelona    2008/2009    105\n",
       "Real Madrid CF  2013/2014    104\n",
       "Chelsea         2009/2010    103\n",
       "PSV             2012/2013    103\n",
       "Real Madrid CF  2012/2013    103\n",
       "                2010/2011    102\n",
       "Celtic          2013/2014    102\n",
       "Name: goals, dtype: int64"
      ]
     },
     "execution_count": 63,
     "metadata": {},
     "output_type": "execute_result"
    }
   ],
   "source": [
    "most_scoring_per_season = (points.groupby(['team', 'season'])['goals']\n",
    "                                  .sum()\n",
    "                                  .sort_values(ascending=False)[:15])\n",
    "plotting_bar(most_scoring_per_season,\n",
    "             \"Top Goals scoring Teams per season\",\n",
    "             'Teams, Season', 'Goals', horizontal=True)\n",
    "most_scoring_per_season"
   ]
  },
  {
   "cell_type": "markdown",
   "metadata": {},
   "source": [
    "* It looks like \"FC Barcelona\" & \"Real Madrid CF\" have beated all teams in scoring goals especially in season 2011/2012\n",
    "* So, let's compare their attributes with the mean attributes of all teams"
   ]
  },
  {
   "cell_type": "code",
   "execution_count": 64,
   "metadata": {},
   "outputs": [
    {
     "data": {
      "text/plain": [
       "buildUpPlaySpeed          52.463967\n",
       "buildUpPlayDribbling      36.563830\n",
       "buildUpPlayPassing        48.489362\n",
       "chanceCreationPassing     52.166781\n",
       "chanceCreationCrossing    53.734386\n",
       "chanceCreationShooting    53.971860\n",
       "defencePressure           46.017845\n",
       "defenceAggression         49.253946\n",
       "defenceTeamWidth          52.187371\n",
       "dtype: float64"
      ]
     },
     "execution_count": 64,
     "metadata": {},
     "output_type": "execute_result"
    }
   ],
   "source": [
    "average_atr = teams_df.mean(numeric_only=True)\n",
    "average_atr"
   ]
  },
  {
   "cell_type": "code",
   "execution_count": 65,
   "metadata": {},
   "outputs": [
    {
     "data": {
      "text/plain": [
       "buildUpPlaySpeed          35.833333\n",
       "buildUpPlayDribbling      32.000000\n",
       "buildUpPlayPassing        34.000000\n",
       "chanceCreationPassing     45.166667\n",
       "chanceCreationCrossing    33.333333\n",
       "chanceCreationShooting    53.000000\n",
       "defencePressure           64.333333\n",
       "defenceAggression         54.500000\n",
       "defenceTeamWidth          66.500000\n",
       "dtype: float64"
      ]
     },
     "execution_count": 65,
     "metadata": {},
     "output_type": "execute_result"
    }
   ],
   "source": [
    "barca_atr = (teams_df.groupby('team').get_group('FC Barcelona')\n",
    "                                     .mean(numeric_only=True))\n",
    "barca_atr"
   ]
  },
  {
   "cell_type": "code",
   "execution_count": 66,
   "metadata": {},
   "outputs": [
    {
     "data": {
      "text/plain": [
       "buildUpPlaySpeed          50.666667\n",
       "buildUpPlayDribbling      38.833333\n",
       "buildUpPlayPassing        38.666667\n",
       "chanceCreationPassing     67.500000\n",
       "chanceCreationCrossing    53.833333\n",
       "chanceCreationShooting    69.000000\n",
       "defencePressure           52.000000\n",
       "defenceAggression         52.166667\n",
       "defenceTeamWidth          63.500000\n",
       "dtype: float64"
      ]
     },
     "execution_count": 66,
     "metadata": {},
     "output_type": "execute_result"
    }
   ],
   "source": [
    "real_atr = (teams_df.groupby('team').get_group('Real Madrid CF')\n",
    "                                    .mean(numeric_only=True))\n",
    "real_atr"
   ]
  },
  {
   "cell_type": "code",
   "execution_count": 67,
   "metadata": {},
   "outputs": [
    {
     "data": {
      "image/png": "[encoded data removed]",
      "text/plain": [
       "<Figure size 1440x1080 with 1 Axes>"
      ]
     },
     "metadata": {
      "needs_background": "light"
     },
     "output_type": "display_data"
    }
   ],
   "source": [
    "fig1 = plt.figure(figsize = (20, 15)) \n",
    "ax1 = fig1.add_subplot()\n",
    "ind1 = np.arange(len(average_atr))\n",
    "\n",
    "plt.barh(ind1+0.25, real_atr, color ='red', height = 0.25, label='Real Madrid CF')\n",
    "plt.barh(ind1, barca_atr, color ='blue', height = 0.25, label='FC Barcelona')\n",
    "plt.barh(ind1-0.25, average_atr, color ='orange', height = 0.25, label='Average Attributes')\n",
    "\n",
    "ax1.set_yticks(ind1)\n",
    "ax1.set_yticklabels(average_atr.index.tolist())\n",
    "plt.yticks(fontsize=15)\n",
    "plt.ylabel(\"Team Attributes\", fontsize=18)\n",
    "plt.xlim(0,75)\n",
    "plt.xlabel(\"Percent\", fontsize=18)\n",
    "plt.title(\"Comparing Team Attributes of The Most Goals Scoring Teams to Attributes of Other Teams\", fontsize=23)\n",
    "plt.legend()\n",
    "plt.show();"
   ]
  },
  {
   "cell_type": "markdown",
   "metadata": {},
   "source": [
    "* It looks like Real Madrid & Barcelona has two common attributes that differ from other teams: *__Mixed__* **Build Up Play Passing** & *__almost Wide__* **high Defence Team Width**\n",
    "* But Real Madrid differs from all teams in that it has *__Rsiky__* **Chance Creation passing** & *__Lots__* **Chance Creation Shooting** which of course lead to scoring more goals."
   ]
  },
  {
   "cell_type": "markdown",
   "metadata": {},
   "source": [
    "##### b) Finding the most defeated teams"
   ]
  },
  {
   "cell_type": "code",
   "execution_count": 68,
   "metadata": {
    "scrolled": false
   },
   "outputs": [
    {
     "data": {
      "image/png": "[encoded data removed]",
      "text/plain": [
       "<Figure size 1440x936 with 1 Axes>"
      ]
     },
     "metadata": {
      "needs_background": "light"
     },
     "output_type": "display_data"
    },
    {
     "data": {
      "text/plain": [
       "team\n",
       "Kilmarnock          142\n",
       "Getafe CF           139\n",
       "RCD Espanyol        134\n",
       "Sunderland          134\n",
       "St. Mirren          131\n",
       "Aston Villa         130\n",
       "Chievo Verona       129\n",
       "Vitória Setúbal     125\n",
       "Hannover 96         124\n",
       "Málaga CF           120\n",
       "Motherwell          120\n",
       "Stoke City          120\n",
       "ADO Den Haag        119\n",
       "Newcastle United    119\n",
       "Willem II           119\n",
       "Name: loss, dtype: int32"
      ]
     },
     "execution_count": 68,
     "metadata": {},
     "output_type": "execute_result"
    }
   ],
   "source": [
    "most_defeated = (points.groupby(['team'])['loss']\n",
    "                       .sum()\n",
    "                       .sort_values(ascending=False)[:15])\n",
    "plotting_bar(most_defeated,\n",
    "             \"Most Defeated Teams\",\n",
    "             'Teams', 'Losses', horizontal=True)\n",
    "most_defeated"
   ]
  },
  {
   "cell_type": "markdown",
   "metadata": {},
   "source": [
    "* ##### Let's compare the attributes of the top 3 defeated teams with the mean attributes of all teams"
   ]
  },
  {
   "cell_type": "code",
   "execution_count": 69,
   "metadata": {},
   "outputs": [
    {
     "data": {
      "text/plain": [
       "buildUpPlaySpeed          53.500000\n",
       "buildUpPlayDribbling      36.666667\n",
       "buildUpPlayPassing        57.000000\n",
       "chanceCreationPassing     53.666667\n",
       "chanceCreationCrossing    55.000000\n",
       "chanceCreationShooting    50.666667\n",
       "defencePressure           48.000000\n",
       "defenceAggression         49.166667\n",
       "defenceTeamWidth          54.333333\n",
       "dtype: float64"
      ]
     },
     "execution_count": 69,
     "metadata": {},
     "output_type": "execute_result"
    }
   ],
   "source": [
    "kilm_atr = (teams_df.groupby('team')\n",
    "                    .get_group('Kilmarnock')\n",
    "                    .mean(numeric_only=True))\n",
    "kilm_atr"
   ]
  },
  {
   "cell_type": "code",
   "execution_count": 70,
   "metadata": {},
   "outputs": [
    {
     "data": {
      "text/plain": [
       "buildUpPlaySpeed          34.500000\n",
       "buildUpPlayDribbling      34.166667\n",
       "buildUpPlayPassing        39.666667\n",
       "chanceCreationPassing     50.333333\n",
       "chanceCreationCrossing    44.833333\n",
       "chanceCreationShooting    55.333333\n",
       "defencePressure           48.166667\n",
       "defenceAggression         41.000000\n",
       "defenceTeamWidth          51.000000\n",
       "dtype: float64"
      ]
     },
     "execution_count": 70,
     "metadata": {},
     "output_type": "execute_result"
    }
   ],
   "source": [
    "geta_atr = (teams_df.groupby('team')\n",
    "                    .get_group('Getafe CF')\n",
    "                    .mean(numeric_only=True))\n",
    "geta_atr"
   ]
  },
  {
   "cell_type": "code",
   "execution_count": 71,
   "metadata": {},
   "outputs": [
    {
     "data": {
      "text/plain": [
       "buildUpPlaySpeed          57.000000\n",
       "buildUpPlayDribbling      33.000000\n",
       "buildUpPlayPassing        60.833333\n",
       "chanceCreationPassing     56.666667\n",
       "chanceCreationCrossing    55.333333\n",
       "chanceCreationShooting    59.000000\n",
       "defencePressure           43.666667\n",
       "defenceAggression         52.166667\n",
       "defenceTeamWidth          51.833333\n",
       "dtype: float64"
      ]
     },
     "execution_count": 71,
     "metadata": {},
     "output_type": "execute_result"
    }
   ],
   "source": [
    "sund_atr = (teams_df.groupby('team')\n",
    "                    .get_group('Sunderland')\n",
    "                    .mean(numeric_only=True))\n",
    "sund_atr"
   ]
  },
  {
   "cell_type": "code",
   "execution_count": 72,
   "metadata": {},
   "outputs": [
    {
     "data": {
      "image/png": "[encoded data removed]",
      "text/plain": [
       "<Figure size 1440x1080 with 1 Axes>"
      ]
     },
     "metadata": {
      "needs_background": "light"
     },
     "output_type": "display_data"
    }
   ],
   "source": [
    "fig2 = plt.figure(figsize = (20, 15)) \n",
    "ax2 = fig2.add_subplot()\n",
    "ind2 = np.arange(len(average_atr))\n",
    "\n",
    "plt.barh(ind1+0.3, kilm_atr, color ='red', height = 0.2, label='Kilmarnock')\n",
    "plt.barh(ind1+0.1, geta_atr, color ='blue', height = 0.2, label='Getafe CF')\n",
    "plt.barh(ind1-0.1, sund_atr, color ='orange', height = 0.2, label='Sunderland')\n",
    "plt.barh(ind1-0.3, average_atr, color ='green', height = 0.2, label='Average Attributes')\n",
    "\n",
    "ax2.set_yticks(ind2)\n",
    "ax2.set_yticklabels(average_atr.index.tolist())\n",
    "plt.yticks(fontsize=15)\n",
    "plt.ylabel(\"Team Attributes\", fontsize=18)\n",
    "plt.xlim(0,75)\n",
    "plt.xlabel(\"Percent\", fontsize=18)\n",
    "plt.title(\"Comparing Team Attributes of The Most Defeated Teams to Attributes of Other Teams\", fontsize=23)\n",
    "plt.legend()\n",
    "plt.show();"
   ]
  },
  {
   "cell_type": "markdown",
   "metadata": {},
   "source": [
    "* It looks like Kilmarnock & Sunderland attributes do not differ much from other teams attributes.\n",
    "* But Getafe CF does differ in that it has *__Very slow__* **Build Up Play Speed** *__little__* **Chance Creation Crossing** & *__little__* **Defence Aggression** which of course lead to receiving more goals resulting in more defeats."
   ]
  },
  {
   "cell_type": "markdown",
   "metadata": {},
   "source": [
    "<a id='conclusions'></a>\n",
    "## Conclusions"
   ]
  },
  {
   "cell_type": "markdown",
   "metadata": {},
   "source": [
    "### 1) Limitations in player attributes data:\n",
    "* It seems to be there are a lot of outliers in almost all attributes, but actually, they are no outliers.\n",
    "* The thing is that there is a very important missing factor in these comparisons which is the position of the players or in other way the role of its player in the game.\n",
    "* As the attributes of defenders will not be like the forwards, and attributes of gool keepers will differ from those of midfielders. Of course, they might share some like (‘agility', 'reactions', 'balance', 'jumping', 'stamina', 'strength', 'aggression') but still there are big gaps between them.\n",
    "* The funny thing is that the outliers in all gool keeping attributes (gk_diving to gk_reflexes) are the data of the actual gool keepers which we should explore and study, not get rid of. Also, they are shown as  outliers because the ratio of goal keepers is about (3/23) of each team.\n",
    "* So, this is a big limitation in this dataset, not mentioning the player role in the field beside his attributes to enable us to filter by roles and get accurate and efficient analysis."
   ]
  },
  {
   "cell_type": "markdown",
   "metadata": {},
   "source": [
    "### 2) Limitations in teams & players data:\n",
    "* Not knowing whom player belongs to which team is another big limitation in this dataset.\n",
    "* Even though, if we tried to get players’ teams from “match” data starting players, it will take forever and it will not be accurate.\n",
    "* Imagine a team with three high potential players compared to another team with 7 high potential players compared to a team with no high potential players, would these conditions affect team results, wins and goals scored through the season?\n",
    "* I think it will have a big influence, but unfortunately, we cannot make sure of it because lack of data."
   ]
  },
  {
   "cell_type": "markdown",
   "metadata": {},
   "source": [
    "### 3) The top potential & overall rating players:\n",
    "* \"Lionel Messi\" & \"Cristiano Ronaldo\" are sitting on top of both lists.\n",
    "* Top rated players are higher than other players in almost all attributes except the gool keeping ones.\n",
    "* But the most unique attributes are **Dribbling**, **Ball Control**, **Agility**, **Reactions** & **Short Passing**."
   ]
  },
  {
   "cell_type": "markdown",
   "metadata": {},
   "source": [
    "### 4) The most goals scoring teams:\n",
    "* \"FC Barcelona\" & \"Real Madrid CF\" are in the top as in the below figurer from other teams: *__Mixed__* **Build Up Play Passing** & *__almost Wide__* **high Defence Team Width**.\n",
    "* But \"Real Madrid CF\" differs from all teams in that it has *__Rsiky__* **Chance Creation passing** & *__Lots__* **Chance Creation Shooting** which of course lead to scoring more goals."
   ]
  },
  {
   "cell_type": "markdown",
   "metadata": {},
   "source": [
    "### 5) The most defeated teams:\n",
    "* \"Kilmarnock\", \"Getafe CF\" & \"Sunderland\" are the top three defeated teams.\n",
    "* \"Kilmarnock\" & \"Sunderland\" attributes do not differ much from other teams attributes.\n",
    "* But \"Getafe CF\" does differ in that it has *__Very slow__* **Build Up Play Speed** *__little__* **Chance Creation Crossing** & *__little__* **Defence Aggression** which of course lead to receiving more goals resulting in more defeats."
   ]
  }
 ],
 "metadata": {
  "kernelspec": {
   "display_name": "Python 3",
   "language": "python",
   "name": "python3"
  },
  "language_info": {
   "codemirror_mode": {
    "name": "ipython",
    "version": 3
   },
   "file_extension": ".py",
   "mimetype": "text/x-python",
   "name": "python",
   "nbconvert_exporter": "python",
   "pygments_lexer": "ipython3",
   "version": "3.8.5"
  }
 },
 "nbformat": 4,
 "nbformat_minor": 2
}
